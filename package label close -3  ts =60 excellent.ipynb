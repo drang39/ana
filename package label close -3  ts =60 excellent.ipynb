{
 "cells": [
  {
   "cell_type": "code",
   "execution_count": 61,
   "metadata": {},
   "outputs": [],
   "source": [
    "import pandas as pd\n",
    "import numpy as np\n",
    "import os\n",
    "from sklearn.preprocessing import MinMaxScaler\n",
    "from keras.models import Sequential\n",
    "from keras.layers import LSTM, TimeDistributed, Dense,Dropout,Activation\n",
    "from keras.optimizers import Adam\n",
    "from keras.utils import np_utils\n",
    "import math\n",
    "import time\n",
    "import matplotlib.pyplot as plt"
   ]
  },
  {
   "cell_type": "code",
   "execution_count": 137,
   "metadata": {},
   "outputs": [
    {
     "name": "stderr",
     "output_type": "stream",
     "text": [
      "D:\\Anaconda3\\lib\\site-packages\\IPython\\core\\interactiveshell.py:2698: DtypeWarning: Columns (5,6,7,8,9,10,25,29,30,31,32,33,34,35,36) have mixed types. Specify dtype option on import or set low_memory=False.\n",
      "  interactivity=interactivity, compiler=compiler, result=result)\n"
     ]
    }
   ],
   "source": [
    "# df_all = pd.read_csv('../rnn_data/all/2013_2018_price.csv',encoding='utf-8')\n",
    "df_all = pd.read_csv('2012_2018_all.csv',encoding='utf-8')\n",
    "df_c = df_all.groupby('證券代號').get_group('2330')"
   ]
  },
  {
   "cell_type": "code",
   "execution_count": 138,
   "metadata": {},
   "outputs": [
    {
     "data": {
      "text/plain": [
       "array(['Unnamed: 0', '三大法人買賣超股數', '外資自營商買賣超股數', '外資自營商買進股數', '外資自營商賣出股數',\n",
       "       '外資買賣超股數', '外資買進股數', '外資賣出股數', '外陸資買賣超股數(不含外資自營商)',\n",
       "       '外陸資買進股數(不含外資自營商)', '外陸資賣出股數(不含外資自營商)', '成交筆數', '成交股數', '成交金額',\n",
       "       '投信買賣超股數', '投信買進股數', '投信賣出股數', '收盤價', '日期', '最低價', '最後揭示買價',\n",
       "       '最後揭示買量', '最後揭示賣價', '最後揭示賣量', '最高價', '本益比', '漲跌(+/-)', '漲跌價差',\n",
       "       '自營商買賣超股數', '自營商買賣超股數(自行買賣)', '自營商買賣超股數(避險)', '自營商買進股數',\n",
       "       '自營商買進股數(自行買賣)', '自營商買進股數(避險)', '自營商賣出股數', '自營商賣出股數(自行買賣)',\n",
       "       '自營商賣出股數(避險)', '證券代號', '證券名稱', '開盤價'], dtype=object)"
      ]
     },
     "execution_count": 138,
     "metadata": {},
     "output_type": "execute_result"
    }
   ],
   "source": [
    "df_c.columns.values"
   ]
  },
  {
   "cell_type": "code",
   "execution_count": 139,
   "metadata": {
    "collapsed": true
   },
   "outputs": [],
   "source": [
    "# del df_c['三大法人買賣超股數']\n",
    "del df_c['外資自營商買賣超股數']\n",
    "del df_c['外資自營商買進股數']\n",
    "del df_c['外資自營商賣出股數']\n",
    "del df_c['外資買賣超股數']\n",
    "del df_c['外資買進股數']\n",
    "del df_c['外資賣出股數']\n",
    "del df_c['外陸資買賣超股數(不含外資自營商)']\n",
    "del df_c['外陸資買進股數(不含外資自營商)']\n",
    "del df_c['外陸資賣出股數(不含外資自營商)']\n",
    "del df_c['投信買賣超股數']\n",
    "del df_c['投信買進股數']\n",
    "del df_c['投信賣出股數']\n",
    "del df_c['最後揭示買價']\n",
    "del df_c['自營商買賣超股數']\n",
    "del df_c['自營商買賣超股數(自行買賣)']\n",
    "del df_c['自營商買賣超股數(避險)']\n",
    "del df_c['自營商買進股數']\n",
    "del df_c['最後揭示買量']\n",
    "del df_c['最後揭示賣價']\n",
    "del df_c['最後揭示賣量']\n",
    "del df_c['自營商賣出股數']\n",
    "del df_c['自營商買進股數(避險)']\n",
    "del df_c['自營商賣出股數(自行買賣)']\n",
    "del df_c['自營商賣出股數(避險)']\n",
    "del df_c['自營商買進股數(自行買賣)']\n",
    "# del df_c['自營商賣出股數(自行買賣)']\n",
    "# del df_c['自營商賣出股數(避險)']"
   ]
  },
  {
   "cell_type": "code",
   "execution_count": 140,
   "metadata": {
    "collapsed": true
   },
   "outputs": [],
   "source": [
    "def batch_data(df_c,time_steps,seperate_rate):\n",
    "    del df_c['Unnamed: 0']\n",
    "    del df_c['證券代號']\n",
    "    del df_c['本益比']\n",
    "    del df_c['成交金額']\n",
    "    del df_c['證券名稱']\n",
    "    empty_li = df_c[df_c['漲跌(+/-)']=='X'].index.values\n",
    "    for i in empty_li:\n",
    "        df_c = df_c.drop(i)\n",
    "    empty_li = df_c[df_c['漲跌(+/-)']==' '].index.values\n",
    "    for i in empty_li:\n",
    "        df_c = df_c.drop(i)\n",
    "    empty_li = df_c[df_c['收盤價']=='X'].index.values\n",
    "    for i in empty_li:\n",
    "        df_c = df_c.drop(i)\n",
    "    empty_li = df_c[df_c['收盤價']==' '].index.values\n",
    "    for i in empty_li:\n",
    "        df_c = df_c.drop(i)\n",
    "    \n",
    "    df_c['成交筆數']=df_c['成交筆數'].str.replace(',','')\n",
    "    df_c['成交股數']=df_c['成交股數'].str.replace(',','')\n",
    "    df_c['三大法人買賣超股數']=df_c['三大法人買賣超股數'].str.replace(',','')\n",
    "    df_c.三大法人買賣超股數 = df_c.三大法人買賣超股數.astype(float)\n",
    "    df_c.成交筆數 = df_c.成交筆數.astype(float)\n",
    "    df_c.成交股數 = df_c.成交股數.astype(float)\n",
    "    df_c.收盤價 = df_c.收盤價.astype(float)\n",
    "    df_c.最低價 = df_c.最低價.astype(float)\n",
    "    df_c.最高價 = df_c.最高價.astype(float)\n",
    "    df_c.開盤價 = df_c.開盤價.astype(float)\n",
    "    df_c.漲跌價差 = df_c.漲跌價差.astype(float)\n",
    "    df_c['return'] = np.where(df_c['漲跌(+/-)'] !='+',df_c['漲跌價差']*-1, df_c['漲跌價差'])\n",
    "    df_c['return']=df_c['return'].shift(-1)\n",
    "#     df_c['label'] = (df_c['return']+df_c['return'].shift(-4)+df_c['return'].shift(-3)+df_c['return'].shift(-2)+df_c['return'].shift(-1))/df_c['收盤價']*100\n",
    "    min_max_scaler = MinMaxScaler(feature_range=(0,1))\n",
    "#     df_c['label']=min_max_scaler.fit_transform(df_c['收盤價'].shift(-3).fillna(0).reshape(-1,1))\n",
    "    df_c['label']=df_c['收盤價'].shift(-5)\n",
    "    del df_c['漲跌(+/-)']\n",
    "    del df_c['漲跌價差']\n",
    "    del df_c['return']\n",
    "    d= df_c['日期']\n",
    "    del df_c['日期']\n",
    "    \n",
    "    \n",
    "    \n",
    "    #remove feature\n",
    "    del df_c['開盤價']\n",
    "    \n",
    "    \n",
    "    \n",
    "    print(df_c.columns.values)\n",
    "    print(df_c.shape)\n",
    "    min_max_scaler = MinMaxScaler(feature_range=(-1, 1))\n",
    "    for i in range(len(df_c.columns)-1):\n",
    "        df_c[df_c.columns[i]] =min_max_scaler.fit_transform(np.array(df_c[df_c.columns[i]]).reshape(-1,1))\n",
    "    Y_batch = df_c['label']\n",
    "    del df_c['label']\n",
    "    X_batch = df_c\n",
    "    X_batch = np.array(X_batch)\n",
    "    Y_batch = np.array(Y_batch)\n",
    "#     Y_batch = np_utils.to_categorical(Y_batch)\n",
    "    n = len(X_batch)\n",
    "    drop_n = n%time_steps\n",
    "    X_batch_t=[]\n",
    "    Y_batch_t=[]\n",
    "    for i in range(0,len(X_batch)-time_steps):\n",
    "        X_batch_t.append(X_batch[i:i+time_steps])\n",
    "        Y_batch_t.append(Y_batch[i+time_steps])\n",
    "    train_size = math.ceil(len(X_batch_t)*seperate_rate)\n",
    "    X_batch_t_train =  X_batch_t[:train_size]\n",
    "    Y_batch_t_train = Y_batch_t[:train_size]\n",
    "    X_batch_t_test = X_batch_t[train_size:]\n",
    "    Y_batch_t_test = Y_batch_t[train_size:]\n",
    "    X_batch_t_train=np.array(X_batch_t_train)\n",
    "    Y_batch_t_train=np.array(Y_batch_t_train)\n",
    "    X_batch_t_test=np.array(X_batch_t_test)\n",
    "    Y_batch_t_test=np.array(Y_batch_t_test)\n",
    "    d = d[time_steps:]\n",
    "    return X_batch_t_train,Y_batch_t_train,X_batch_t_test,Y_batch_t_test,d"
   ]
  },
  {
   "cell_type": "code",
   "execution_count": 141,
   "metadata": {
    "collapsed": true
   },
   "outputs": [],
   "source": [
    "def g_b(X_batch_t_train,Y_batch_t_train,X_batch_t_test,Y_batch_t_test,BATCH_SIZE):\n",
    "    X_batch_t_train_b=[]\n",
    "    Y_batch_t_train_b=[]\n",
    "    dn= X_batch_t_train.shape[0]%BATCH_SIZE\n",
    "    print(dn)\n",
    "    for i in range(dn,X_batch_t_train.shape[0],BATCH_SIZE):\n",
    "        X_batch_t_train_b.append(X_batch_t_train[i:i+BATCH_SIZE])\n",
    "        Y_batch_t_train_b.append(Y_batch_t_train[i:i+BATCH_SIZE])\n",
    "    X_batch_t_train_b=np.array(X_batch_t_train_b)\n",
    "    Y_batch_t_train_b=np.array(Y_batch_t_train_b)\n",
    "    X_batch_t_test_b=[]\n",
    "    Y_batch_t_test_b=[]\n",
    "    for i in range(0,X_batch_t_test.shape[0],BATCH_SIZE):\n",
    "        X_batch_t_test_b.append(X_batch_t_test[i:i+BATCH_SIZE])\n",
    "        Y_batch_t_test_b.append(Y_batch_t_test[i:i+BATCH_SIZE])\n",
    "    X_batch_t_test_b=np.array(X_batch_t_test_b)\n",
    "    Y_batch_t_test_b=np.array(Y_batch_t_test_b) \n",
    "    return X_batch_t_train_b,Y_batch_t_train_b,X_batch_t_test_b,Y_batch_t_test_b"
   ]
  },
  {
   "cell_type": "code",
   "execution_count": 142,
   "metadata": {
    "collapsed": true
   },
   "outputs": [],
   "source": [
    "time_steps=60\n",
    "seperate_rate=0.7\n",
    "TIME_STEPS = time_steps\n",
    "INPUT_SIZE = 6\n",
    "CELL_SIZE = 3\n",
    "OUTPUT_SIZE=16\n",
    "LR = 0.0001"
   ]
  },
  {
   "cell_type": "code",
   "execution_count": 143,
   "metadata": {},
   "outputs": [
    {
     "name": "stdout",
     "output_type": "stream",
     "text": [
      "['三大法人買賣超股數' '成交筆數' '成交股數' '收盤價' '最低價' '最高價' 'label']\n",
      "(1271, 7)\n"
     ]
    }
   ],
   "source": [
    "X_batch_t_train,Y_batch_t_train,X_batch_t_test,Y_batch_t_test,d=batch_data(df_c,time_steps,seperate_rate)"
   ]
  },
  {
   "cell_type": "code",
   "execution_count": 144,
   "metadata": {},
   "outputs": [
    {
     "name": "stdout",
     "output_type": "stream",
     "text": [
      "(848, 60, 6) (363, 60, 6)\n"
     ]
    }
   ],
   "source": [
    "print(X_batch_t_train.shape,X_batch_t_test.shape)"
   ]
  },
  {
   "cell_type": "code",
   "execution_count": 145,
   "metadata": {
    "collapsed": true
   },
   "outputs": [],
   "source": [
    "BATCH_SIZE=121\n",
    "\n",
    "#train\n",
    "X_batch_t_train=X_batch_t_train[1:]\n",
    "Y_batch_t_train=Y_batch_t_train[1:]\n",
    "#test\n",
    "X_batch_t_test=X_batch_t_test[:]\n",
    "Y_batch_t_test=Y_batch_t_test[:]\n"
   ]
  },
  {
   "cell_type": "code",
   "execution_count": 146,
   "metadata": {},
   "outputs": [
    {
     "name": "stdout",
     "output_type": "stream",
     "text": [
      "0\n"
     ]
    }
   ],
   "source": [
    "X_batch_t_train_b,Y_batch_t_train_b,X_batch_t_test_b,Y_batch_t_test_b=g_b( X_batch_t_train,Y_batch_t_train,X_batch_t_test,Y_batch_t_test,BATCH_SIZE)"
   ]
  },
  {
   "cell_type": "code",
   "execution_count": 147,
   "metadata": {},
   "outputs": [
    {
     "data": {
      "text/plain": [
       "(3, 121, 60, 6)"
      ]
     },
     "execution_count": 147,
     "metadata": {},
     "output_type": "execute_result"
    }
   ],
   "source": [
    "X_batch_t_test_b.shape"
   ]
  },
  {
   "cell_type": "code",
   "execution_count": 148,
   "metadata": {
    "collapsed": true
   },
   "outputs": [],
   "source": [
    "INPUT_SIZE = 6\n",
    "CELL_SIZE = 30\n",
    "OUTPUT_SIZE=16\n",
    "LR = 0.0001*0.7"
   ]
  },
  {
   "cell_type": "code",
   "execution_count": 149,
   "metadata": {},
   "outputs": [
    {
     "name": "stderr",
     "output_type": "stream",
     "text": [
      "D:\\Anaconda3\\lib\\site-packages\\ipykernel_launcher.py:6: UserWarning: Update your `LSTM` call to the Keras 2 API: `LSTM(batch_input_shape=(121, 60, ..., return_sequences=False, stateful=True, units=128)`\n",
      "  \n"
     ]
    }
   ],
   "source": [
    "model =Sequential()\n",
    "model.add(LSTM(\n",
    "    batch_input_shape=(BATCH_SIZE,TIME_STEPS, INPUT_SIZE),\n",
    "    output_dim=128,\n",
    "    return_sequences=False,\n",
    "    stateful=True,\n",
    "))\n",
    "model.add(Dropout(0.2))\n",
    "model.add(Dense(64,activation='tanh'))\n",
    "model.add(Dense(32))\n",
    "model.add(Dense(16))\n",
    "model.add(Dense(8))\n",
    "model.add(Dense(1))\n",
    "adam = Adam(LR)\n",
    "model.compile(optimizer=adam,\n",
    "              loss='mse')"
   ]
  },
  {
   "cell_type": "code",
   "execution_count": 150,
   "metadata": {},
   "outputs": [
    {
     "data": {
      "text/plain": [
       "(121, 60, 6)"
      ]
     },
     "execution_count": 150,
     "metadata": {},
     "output_type": "execute_result"
    }
   ],
   "source": [
    "X_batch_t_train_b[0].shape"
   ]
  },
  {
   "cell_type": "code",
   "execution_count": 151,
   "metadata": {},
   "outputs": [
    {
     "name": "stdout",
     "output_type": "stream",
     "text": [
      "cl 15573.33\n",
      "train cost:  23502.283 epoch:  0\n",
      "cl 4992.3813\n",
      "train cost:  1216.4363 epoch:  100\n",
      "cl 475.36273\n",
      "train cost:  1011.0718 epoch:  200\n",
      "cl 475.17688\n",
      "train cost:  1009.7098 epoch:  300\n",
      "cl 467.30948\n",
      "train cost:  985.1901 epoch:  400\n",
      "cl 251.46716\n",
      "train cost:  256.67975 epoch:  500\n",
      "cl 63.764164\n",
      "train cost:  94.744415 epoch:  600\n",
      "cl 39.80164\n",
      "train cost:  61.864586 epoch:  700\n",
      "cl 33.012108\n",
      "train cost:  52.821354 epoch:  800\n",
      "cl 35.84609\n",
      "train cost:  69.98204 epoch:  900\n",
      "cl 25.923721\n",
      "train cost:  37.865177 epoch:  1000\n",
      "耗時:360.33056926727295s\n"
     ]
    }
   ],
   "source": [
    "epoch = 1001\n",
    "cl = []\n",
    "start_time = time.time()\n",
    "cl_chart=[]\n",
    "for epoch in range(epoch):\n",
    "    for i in range(X_batch_t_train_b.shape[0]):\n",
    "#         print(X.shape)\n",
    "        X = X_batch_t_train_b[i].reshape(BATCH_SIZE,TIME_STEPS,INPUT_SIZE)\n",
    "        Y = Y_batch_t_train_b[i].reshape(BATCH_SIZE,1)\n",
    "        cost = model.train_on_batch(X,Y)\n",
    "#         pred = model.predict_class(X,Y)\n",
    "#         pred = model.predict(X, 1)\n",
    "#         cl_chart.append(cost)\n",
    "#         if cost<20:\n",
    "#             cl.append(cost)\n",
    "        cl.append(cost)\n",
    "    if epoch % 100  == 0:\n",
    "        print('cl',np.average(cl))\n",
    "        \n",
    "        print('train cost: ', cost,'epoch: ',epoch)\n",
    "#         print('class',pred)\n",
    "        cl=[]\n",
    "t=(start_time-time.time())*-1\n",
    "print('耗時:'+str(t)+'s')"
   ]
  },
  {
   "cell_type": "code",
   "execution_count": 164,
   "metadata": {
    "collapsed": true
   },
   "outputs": [],
   "source": [
    "yhat=[]\n",
    "for i in range(len(X_batch_t_test_b)):\n",
    "    yhat.append(model.predict_on_batch((X_batch_t_test_b[i])))"
   ]
  },
  {
   "cell_type": "code",
   "execution_count": 165,
   "metadata": {
    "collapsed": true
   },
   "outputs": [],
   "source": [
    "shift_days=5"
   ]
  },
  {
   "cell_type": "code",
   "execution_count": 166,
   "metadata": {
    "collapsed": true
   },
   "outputs": [],
   "source": [
    "for i in range(-1,-1*(shift_days+1),-1):\n",
    "    Y_batch_t_test[i]=Y_batch_t_test[-1*(shift_days+1)]"
   ]
  },
  {
   "cell_type": "code",
   "execution_count": 167,
   "metadata": {},
   "outputs": [
    {
     "data": {
      "text/plain": [
       "2993.2413632799316"
      ]
     },
     "execution_count": 167,
     "metadata": {},
     "output_type": "execute_result"
    }
   ],
   "source": [
    "np.average((yhat-Y_batch_t_test)**2)"
   ]
  },
  {
   "cell_type": "code",
   "execution_count": 168,
   "metadata": {},
   "outputs": [
    {
     "data": {
      "image/png": "[encoded data removed]",
      "text/plain": [
       "<Figure size 432x288 with 1 Axes>"
      ]
     },
     "metadata": {},
     "output_type": "display_data"
    }
   ],
   "source": [
    "yhat=np.array(yhat).flatten()\n",
    "plt.plot(yhat,color='blue')\n",
    "plt.show()"
   ]
  },
  {
   "cell_type": "code",
   "execution_count": 169,
   "metadata": {},
   "outputs": [
    {
     "data": {
      "text/plain": [
       "207.99586776859505"
      ]
     },
     "execution_count": 169,
     "metadata": {},
     "output_type": "execute_result"
    }
   ],
   "source": [
    "np.average(Y_batch_t_test)"
   ]
  },
  {
   "cell_type": "code",
   "execution_count": 170,
   "metadata": {},
   "outputs": [
    {
     "data": {
      "text/plain": [
       "159.27104"
      ]
     },
     "execution_count": 170,
     "metadata": {},
     "output_type": "execute_result"
    }
   ],
   "source": [
    "np.average(yhat)"
   ]
  },
  {
   "cell_type": "code",
   "execution_count": null,
   "metadata": {
    "collapsed": true
   },
   "outputs": [],
   "source": []
  },
  {
   "cell_type": "code",
   "execution_count": 171,
   "metadata": {},
   "outputs": [
    {
     "data": {
      "image/png": "[encoded data removed]",
      "text/plain": [
       "<Figure size 432x288 with 1 Axes>"
      ]
     },
     "metadata": {},
     "output_type": "display_data"
    }
   ],
   "source": [
    "plt.plot(Y_batch_t_test,color='red')\n",
    "plt.show()"
   ]
  },
  {
   "cell_type": "code",
   "execution_count": 172,
   "metadata": {},
   "outputs": [
    {
     "data": {
      "image/png": "[encoded data removed]",
      "text/plain": [
       "<Figure size 432x288 with 1 Axes>"
      ]
     },
     "metadata": {},
     "output_type": "display_data"
    }
   ],
   "source": [
    "plt.plot(Y_batch_t_test,color='red')\n",
    "plt.plot(yhat,color='blue')\n",
    "plt.show()"
   ]
  },
  {
   "cell_type": "code",
   "execution_count": 161,
   "metadata": {},
   "outputs": [
    {
     "name": "stderr",
     "output_type": "stream",
     "text": [
      "D:\\Anaconda3\\lib\\site-packages\\ipykernel_launcher.py:2: FutureWarning: reshape is deprecated and will raise in a subsequent release. Please use .values.reshape(...) instead\n",
      "  \n",
      "D:\\Anaconda3\\lib\\site-packages\\sklearn\\utils\\validation.py:475: DataConversionWarning: Data with input dtype object was converted to float64 by MinMaxScaler.\n",
      "  warnings.warn(msg, DataConversionWarning)\n"
     ]
    }
   ],
   "source": [
    "min_max_scaler = MinMaxScaler(feature_range=(0,1))\n",
    "x=np.array(min_max_scaler.fit_transform(df_c['收盤價'].fillna(0).reshape(-1,1))).astype('float')"
   ]
  },
  {
   "cell_type": "code",
   "execution_count": 162,
   "metadata": {
    "collapsed": true
   },
   "outputs": [],
   "source": [
    "x1=x[-(yhat.shape[0]):]"
   ]
  },
  {
   "cell_type": "code",
   "execution_count": 163,
   "metadata": {},
   "outputs": [
    {
     "data": {
      "image/png": "[encoded data removed]",
      "text/plain": [
       "<Figure size 432x288 with 1 Axes>"
      ]
     },
     "metadata": {},
     "output_type": "display_data"
    }
   ],
   "source": [
    "plt.plot(x1,color='red')\n",
    "plt.plot(yhat,color='blue')\n",
    "plt.show()"
   ]
  },
  {
   "cell_type": "code",
   "execution_count": 173,
   "metadata": {},
   "outputs": [
    {
     "ename": "NameError",
     "evalue": "name 'yaht' is not defined",
     "output_type": "error",
     "traceback": [
      "\u001b[1;31m---------------------------------------------------------------------------\u001b[0m",
      "\u001b[1;31mNameError\u001b[0m                                 Traceback (most recent call last)",
      "\u001b[1;32m<ipython-input-173-f345942272f8>\u001b[0m in \u001b[0;36m<module>\u001b[1;34m()\u001b[0m\n\u001b[1;32m----> 1\u001b[1;33m \u001b[0myaht\u001b[0m\u001b[1;33m\u001b[0m\u001b[0m\n\u001b[0m",
      "\u001b[1;31mNameError\u001b[0m: name 'yaht' is not defined"
     ]
    }
   ],
   "source": []
  },
  {
   "cell_type": "code",
   "execution_count": null,
   "metadata": {
    "collapsed": true
   },
   "outputs": [],
   "source": [
    "#回測\n",
    "\n",
    "\n",
    "\n",
    "\n"
   ]
  }
 ],
 "metadata": {
  "kernelspec": {
   "display_name": "Python 3",
   "language": "python",
   "name": "python3"
  },
  "language_info": {
   "codemirror_mode": {
    "name": "ipython",
    "version": 3
   },
   "file_extension": ".py",
   "mimetype": "text/x-python",
   "name": "python",
   "nbconvert_exporter": "python",
   "pygments_lexer": "ipython3",
   "version": "3.6.3"
  }
 },
 "nbformat": 4,
 "nbformat_minor": 2
}
