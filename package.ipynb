{
 "cells": [
  {
   "cell_type": "code",
   "execution_count": 7,
   "metadata": {},
   "outputs": [],
   "source": [
    "import pandas as pd\n",
    "import numpy as np\n",
    "import os\n",
    "from sklearn.preprocessing import MinMaxScaler\n",
    "from keras.models import Sequential\n",
    "from keras.layers import LSTM, TimeDistributed, Dense,Dropout,Activation\n",
    "from keras.optimizers import Adam\n",
    "from keras.utils import np_utils\n",
    "import math\n",
    "import matplotlib.pyplot as plt"
   ]
  },
  {
   "cell_type": "code",
   "execution_count": 46,
   "metadata": {},
   "outputs": [
    {
     "name": "stderr",
     "output_type": "stream",
     "text": [
      "D:\\Anaconda3\\lib\\site-packages\\IPython\\core\\interactiveshell.py:2698: DtypeWarning: Columns (17) have mixed types. Specify dtype option on import or set low_memory=False.\n",
      "  interactivity=interactivity, compiler=compiler, result=result)\n"
     ]
    }
   ],
   "source": [
    "df_all = pd.read_csv('../rnn_data/all/2013_2018_price.csv',encoding='utf-8')\n",
    "# df_all = pd.read_csv('2013_2018_price.csv',encoding='utf-8')\n",
    "df_c = df_all.groupby('證券代號').get_group('2317')"
   ]
  },
  {
   "cell_type": "code",
   "execution_count": 47,
   "metadata": {
    "collapsed": true
   },
   "outputs": [],
   "source": [
    "def batch_data(df_c,time_steps,seperate_rate):\n",
    "    del df_c['Unnamed: 0']\n",
    "    del df_c['最後揭示買價']\n",
    "    del df_c['最後揭示買量']\n",
    "    del df_c['最後揭示賣價']\n",
    "    del df_c['最後揭示賣量']\n",
    "    del df_c['證券代號']\n",
    "    del df_c['本益比']\n",
    "    del df_c['成交金額']\n",
    "    del df_c['證券名稱']\n",
    "    del df_c['Unnamed: 0.1']\n",
    "    empty_li = df_c[df_c['漲跌(+/-)']=='X'].index.values\n",
    "    for i in empty_li:\n",
    "        df_c = df_c.drop(i)\n",
    "    empty_li = df_c[df_c['漲跌(+/-)']==' '].index.values\n",
    "    for i in empty_li:\n",
    "        df_c = df_c.drop(i)\n",
    "    empty_li = df_c[df_c['收盤價']=='X'].index.values\n",
    "    for i in empty_li:\n",
    "        df_c = df_c.drop(i)\n",
    "    empty_li = df_c[df_c['收盤價']==' '].index.values\n",
    "    for i in empty_li:\n",
    "        df_c = df_c.drop(i)\n",
    "    df_c['成交筆數']=df_c['成交筆數'].str.replace(',','')\n",
    "    df_c['成交股數']=df_c['成交股數'].str.replace(',','')\n",
    "    df_c.成交筆數 = df_c.成交筆數.astype(float)\n",
    "    df_c.成交股數 = df_c.成交股數.astype(float)\n",
    "    df_c.收盤價 = df_c.收盤價.astype(float)\n",
    "    df_c.最低價 = df_c.最低價.astype(float)\n",
    "    df_c.最高價 = df_c.最高價.astype(float)\n",
    "    df_c.開盤價 = df_c.開盤價.astype(float)\n",
    "    df_c.漲跌價差 = df_c.漲跌價差.astype(float)\n",
    "    df_c['return'] = np.where(df_c['漲跌(+/-)'] !='+',df_c['漲跌價差']*-1, df_c['漲跌價差'])\n",
    "    df_c['return']=df_c['return'].shift(-1)\n",
    "#     df_c['label'] = 100*(df_c['return']+df_c['return'].shift(-4)+df_c['return'].shift(-3)+df_c['return'].shift(-2)+df_c['return'].shift(-1))/df_c['收盤價']\n",
    "#     df_c['label'] = df_c['label'].apply(lambda x:np.where(x>=3,3,np.where(x>-3,x,-3)))\n",
    "    df_c['label'] = ((df_c['收盤價']-df_c['收盤價'].shift(-5))/df_c['收盤價']).apply(lambda x:np.where(x>=0.2,0.2,np.where(x>-0.2,x,-0.2)))\n",
    "    del df_c['漲跌(+/-)']\n",
    "    del df_c['漲跌價差']\n",
    "    del df_c['return']\n",
    "    d= df_c['日期']\n",
    "    del df_c['日期']\n",
    "    min_max_scaler = MinMaxScaler(feature_range=(-1, 1))\n",
    "    for i in range(len(df_c.columns)-1):\n",
    "        df_c[df_c.columns[i]] =min_max_scaler.fit_transform(np.array(df_c[df_c.columns[i]]).reshape(-1,1))\n",
    "    Y_batch = df_c['label']\n",
    "    del df_c['label']\n",
    "    X_batch = df_c\n",
    "    X_batch = np.array(X_batch)\n",
    "    Y_batch = np.array(Y_batch)\n",
    "    X_batch_re=[]\n",
    "    Y_batch_re=[]\n",
    "    for i in range(len(X_batch)):\n",
    "        X_batch_re.append(X_batch[i:time_steps+i])\n",
    "        Y_batch_re.append(Y_batch[i])\n",
    "    n=len(X_batch_re)\n",
    "    batch_n = math.floor(n/BATCH_SIZE)\n",
    "    drop_n = n-batch_n*BATCH_SIZE\n",
    "    X_batch_re=X_batch_re[drop_n:]\n",
    "    Y_batch_re=Y_batch_re[drop_n:]\n",
    "    train_size=math.ceil(len(X_batch_re)*seperate_rate)\n",
    "    X_batch_train=X_batch_re[:train_size]\n",
    "    Y_batch_train=Y_batch_re[:train_size]\n",
    "    X_batch_test=X_batch_re[train_size:]\n",
    "    Y_batch_test=Y_batch_re[train_size:]\n",
    "    return X_batch_train,Y_batch_train,X_batch_test,Y_batch_test"
   ]
  },
  {
   "cell_type": "code",
   "execution_count": null,
   "metadata": {
    "collapsed": true
   },
   "outputs": [],
   "source": []
  },
  {
   "cell_type": "code",
   "execution_count": 48,
   "metadata": {
    "collapsed": true
   },
   "outputs": [],
   "source": [
    "time_steps=30\n",
    "seperate_rate=0.9\n",
    "BATCH_SIZE=5"
   ]
  },
  {
   "cell_type": "code",
   "execution_count": 49,
   "metadata": {
    "collapsed": true
   },
   "outputs": [],
   "source": [
    "X_batch_train,Y_batch_train,X_batch_test,Y_batch_test=batch_data(df_c,time_steps,seperate_rate)"
   ]
  },
  {
   "cell_type": "code",
   "execution_count": 50,
   "metadata": {
    "collapsed": true
   },
   "outputs": [],
   "source": [
    "TIME_STEPS = time_steps\n",
    "INPUT_SIZE = 6\n",
    "OUTPUT_SIZE=32\n",
    "LR = 0.0005"
   ]
  },
  {
   "cell_type": "code",
   "execution_count": 51,
   "metadata": {},
   "outputs": [
    {
     "name": "stderr",
     "output_type": "stream",
     "text": [
      "D:\\Anaconda3\\lib\\site-packages\\ipykernel_launcher.py:6: UserWarning: Update your `LSTM` call to the Keras 2 API: `LSTM(batch_input_shape=(1, 30, 6), return_sequences=False, stateful=True, units=32)`\n",
      "  \n"
     ]
    }
   ],
   "source": [
    "model =Sequential()\n",
    "model.add(LSTM(\n",
    "    batch_input_shape=(1,TIME_STEPS, INPUT_SIZE),\n",
    "    output_dim=32,\n",
    "    return_sequences=False,\n",
    "    stateful=True,\n",
    "))\n",
    "model.add(Dropout(0.2))\n",
    "model.add(Dense(8))\n",
    "model.add(Dense(1))\n",
    "adam = Adam(LR)\n",
    "model.compile(optimizer=adam,\n",
    "              loss='mse')"
   ]
  },
  {
   "cell_type": "code",
   "execution_count": 52,
   "metadata": {
    "collapsed": true
   },
   "outputs": [],
   "source": [
    "X_batch_train=np.array(X_batch_train)\n",
    "Y_batch_train = np.array(Y_batch_train)"
   ]
  },
  {
   "cell_type": "code",
   "execution_count": 53,
   "metadata": {},
   "outputs": [
    {
     "data": {
      "text/plain": [
       "0.0056116722783389455"
      ]
     },
     "execution_count": 53,
     "metadata": {},
     "output_type": "execute_result"
    }
   ],
   "source": [
    "Y_batch_train[0]"
   ]
  },
  {
   "cell_type": "code",
   "execution_count": 56,
   "metadata": {},
   "outputs": [
    {
     "data": {
      "text/plain": [
       "0.0056116722783389455"
      ]
     },
     "execution_count": 56,
     "metadata": {},
     "output_type": "execute_result"
    }
   ],
   "source": [
    "Y_batch_train[0]"
   ]
  },
  {
   "cell_type": "code",
   "execution_count": null,
   "metadata": {},
   "outputs": [
    {
     "name": "stdout",
     "output_type": "stream",
     "text": [
      "cl 0.005157717\n",
      "train cost:  0.001425131 epoch:  0\n",
      "cl 0.0008801822\n",
      "train cost:  1.8651245e-06 epoch:  100\n",
      "cl 0.00070746284\n",
      "train cost:  1.6085645e-05 epoch:  200\n",
      "cl 0.00051978184\n",
      "train cost:  5.195356e-06 epoch:  300\n",
      "cl 0.00041636257\n",
      "train cost:  1.736643e-05 epoch:  400\n"
     ]
    }
   ],
   "source": [
    "epoch = 1001\n",
    "cl = []\n",
    "for epoch in range(epoch):\n",
    "    for i in range((X_batch_train).shape[0]):\n",
    "        \n",
    "        X = X_batch_train[i].reshape(1,30,6)\n",
    "\n",
    "        Y = Y_batch_train[i].reshape(1,1)\n",
    "\n",
    "        cost = model.train_on_batch(X,Y)\n",
    "        pred = model.predict(X, BATCH_SIZE)\n",
    "        cl.append(cost)\n",
    "    if epoch % 100  == 0:\n",
    "        print('cl',np.average(cl))\n",
    "        print('train cost: ', cost,'epoch: ',epoch)\n",
    "        cl=[]"
   ]
  },
  {
   "cell_type": "code",
   "execution_count": 132,
   "metadata": {},
   "outputs": [
    {
     "name": "stdout",
     "output_type": "stream",
     "text": [
      "0\n",
      "22\n"
     ]
    }
   ],
   "source": [
    "drop_location = 0\n",
    "for i in range(X_batch_test_time_b.shape[0]):\n",
    "    if X_batch_test_time_b[i].shape[0]==0:\n",
    "        drop_location = i\n",
    "        print(X_batch_test_time_b[i].shape[0])\n",
    "        print(i)\n",
    "        break\n",
    "X_batch_test_time_b=X_batch_test_time_b[0:drop_location]\n",
    "Y_batch_test_time_b=Y_batch_test_time_b[0:drop_location]"
   ]
  },
  {
   "cell_type": "code",
   "execution_count": 133,
   "metadata": {},
   "outputs": [
    {
     "name": "stdout",
     "output_type": "stream",
     "text": [
      "(5, 5, 6)\n",
      "(5, 5, 6)\n",
      "(5, 5, 6)\n",
      "(5, 5, 6)\n",
      "(5, 5, 6)\n",
      "(5, 5, 6)\n",
      "(5, 5, 6)\n",
      "(5, 5, 6)\n",
      "(5, 5, 6)\n",
      "(5, 5, 6)\n",
      "(5, 5, 6)\n",
      "(5, 5, 6)\n",
      "(5, 5, 6)\n",
      "(5, 5, 6)\n",
      "(5, 5, 6)\n",
      "(5, 5, 6)\n",
      "(5, 5, 6)\n",
      "(5, 5, 6)\n",
      "(5, 5, 6)\n",
      "(5, 5, 6)\n",
      "(5, 5, 6)\n",
      "(5, 5, 6)\n"
     ]
    }
   ],
   "source": [
    "yhat=[]\n",
    "for i in range(X_batch_test_time_b.shape[0]):\n",
    "    print(X_batch_test_time_b[i].shape)\n",
    "    yhat.append(model.predict_on_batch(X_batch_test_time_b[i]))"
   ]
  },
  {
   "cell_type": "code",
   "execution_count": 136,
   "metadata": {
    "collapsed": true
   },
   "outputs": [],
   "source": [
    "yhat =np.array(yhat).flatten()"
   ]
  },
  {
   "cell_type": "code",
   "execution_count": 137,
   "metadata": {
    "scrolled": false
   },
   "outputs": [
    {
     "data": {
      "text/plain": [
       "(550, 1)"
      ]
     },
     "execution_count": 137,
     "metadata": {},
     "output_type": "execute_result"
    }
   ],
   "source": [
    "yhat.shape"
   ]
  },
  {
   "cell_type": "code",
   "execution_count": 143,
   "metadata": {},
   "outputs": [
    {
     "data": {
      "text/plain": [
       "array([[[0.09251004],\n",
       "        [0.09761282],\n",
       "        [0.91461101],\n",
       "        [0.91395793],\n",
       "        [0.92110454]],\n",
       "\n",
       "       [[0.89320388],\n",
       "        [0.08457924],\n",
       "        [0.08315001],\n",
       "        [0.90512334],\n",
       "        [0.90439771]],\n",
       "\n",
       "       [[0.93096647],\n",
       "        [0.91262136],\n",
       "        [0.11356895],\n",
       "        [0.13556097],\n",
       "        [0.89563567]],\n",
       "\n",
       "       [[0.90439771],\n",
       "        [0.92110454],\n",
       "        [0.88349515],\n",
       "        [0.15220233],\n",
       "        [0.15906118]],\n",
       "\n",
       "       [[0.87666034],\n",
       "        [0.86615679],\n",
       "        [0.89151874],\n",
       "        [0.86407767],\n",
       "        [0.28384273]]])"
      ]
     },
     "execution_count": 143,
     "metadata": {},
     "output_type": "execute_result"
    }
   ],
   "source": [
    "Y_batch_test_time_b"
   ]
  },
  {
   "cell_type": "code",
   "execution_count": 55,
   "metadata": {},
   "outputs": [
    {
     "data": {
      "text/plain": [
       "[<matplotlib.lines.Line2D at 0x25b91d70278>]"
      ]
     },
     "execution_count": 55,
     "metadata": {},
     "output_type": "execute_result"
    }
   ],
   "source": [
    "plt.plot(yhat,color='blue')\n",
    "plt.plot(Y_batch_test_time_b,color='red')\n",
    "plt.show()"
   ]
  }
 ],
 "metadata": {
  "kernelspec": {
   "display_name": "Python 3",
   "language": "python",
   "name": "python3"
  },
  "language_info": {
   "codemirror_mode": {
    "name": "ipython",
    "version": 3
   },
   "file_extension": ".py",
   "mimetype": "text/x-python",
   "name": "python",
   "nbconvert_exporter": "python",
   "pygments_lexer": "ipython3",
   "version": "3.6.3"
  }
 },
 "nbformat": 4,
 "nbformat_minor": 2
}
