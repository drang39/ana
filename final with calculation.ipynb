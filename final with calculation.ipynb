{
 "cells": [
  {
   "cell_type": "code",
   "execution_count": 191,
   "metadata": {},
   "outputs": [],
   "source": [
    "import pandas as pd\n",
    "import numpy as np\n",
    "import os\n",
    "from sklearn.preprocessing import MinMaxScaler\n",
    "from keras.models import Sequential\n",
    "from keras.layers import LSTM, TimeDistributed, Dense,Dropout,Activation\n",
    "from keras.optimizers import Adam\n",
    "from keras.utils import np_utils\n",
    "import math\n",
    "import time\n",
    "import matplotlib.pyplot as plt"
   ]
  },
  {
   "cell_type": "code",
   "execution_count": 247,
   "metadata": {},
   "outputs": [
    {
     "name": "stderr",
     "output_type": "stream",
     "text": [
      "D:\\Anaconda3\\lib\\site-packages\\IPython\\core\\interactiveshell.py:2698: DtypeWarning: Columns (5,6,7,8,9,10,25,29,30,31,32,33,34,35,36) have mixed types. Specify dtype option on import or set low_memory=False.\n",
      "  interactivity=interactivity, compiler=compiler, result=result)\n"
     ]
    }
   ],
   "source": [
    "# df_all = pd.read_csv('../rnn_data/all/2013_2018_price.csv',encoding='utf-8')\n",
    "df_all = pd.read_csv('2012_2018_all.csv',encoding='utf-8')\n",
    "df_c = df_all.groupby('證券代號').get_group('3209')"
   ]
  },
  {
   "cell_type": "code",
   "execution_count": 248,
   "metadata": {},
   "outputs": [
    {
     "data": {
      "text/plain": [
       "array(['Unnamed: 0', '三大法人買賣超股數', '外資自營商買賣超股數', '外資自營商買進股數', '外資自營商賣出股數',\n",
       "       '外資買賣超股數', '外資買進股數', '外資賣出股數', '外陸資買賣超股數(不含外資自營商)',\n",
       "       '外陸資買進股數(不含外資自營商)', '外陸資賣出股數(不含外資自營商)', '成交筆數', '成交股數', '成交金額',\n",
       "       '投信買賣超股數', '投信買進股數', '投信賣出股數', '收盤價', '日期', '最低價', '最後揭示買價',\n",
       "       '最後揭示買量', '最後揭示賣價', '最後揭示賣量', '最高價', '本益比', '漲跌(+/-)', '漲跌價差',\n",
       "       '自營商買賣超股數', '自營商買賣超股數(自行買賣)', '自營商買賣超股數(避險)', '自營商買進股數',\n",
       "       '自營商買進股數(自行買賣)', '自營商買進股數(避險)', '自營商賣出股數', '自營商賣出股數(自行買賣)',\n",
       "       '自營商賣出股數(避險)', '證券代號', '證券名稱', '開盤價'], dtype=object)"
      ]
     },
     "execution_count": 248,
     "metadata": {},
     "output_type": "execute_result"
    }
   ],
   "source": [
    "df_c.columns.values"
   ]
  },
  {
   "cell_type": "code",
   "execution_count": 249,
   "metadata": {
    "collapsed": true
   },
   "outputs": [],
   "source": [
    "# del df_c['三大法人買賣超股數']\n",
    "del df_c['外資自營商買賣超股數']\n",
    "del df_c['外資自營商買進股數']\n",
    "del df_c['外資自營商賣出股數']\n",
    "del df_c['外資買賣超股數']\n",
    "del df_c['外資買進股數']\n",
    "del df_c['外資賣出股數']\n",
    "del df_c['外陸資買賣超股數(不含外資自營商)']\n",
    "del df_c['外陸資買進股數(不含外資自營商)']\n",
    "del df_c['外陸資賣出股數(不含外資自營商)']\n",
    "del df_c['投信買賣超股數']\n",
    "del df_c['投信買進股數']\n",
    "del df_c['投信賣出股數']\n",
    "del df_c['最後揭示買價']\n",
    "del df_c['自營商買賣超股數']\n",
    "del df_c['自營商買賣超股數(自行買賣)']\n",
    "del df_c['自營商買賣超股數(避險)']\n",
    "del df_c['自營商買進股數']\n",
    "del df_c['最後揭示買量']\n",
    "del df_c['最後揭示賣價']\n",
    "del df_c['最後揭示賣量']\n",
    "del df_c['自營商賣出股數']\n",
    "del df_c['自營商買進股數(避險)']\n",
    "del df_c['自營商賣出股數(自行買賣)']\n",
    "del df_c['自營商賣出股數(避險)']\n",
    "del df_c['自營商買進股數(自行買賣)']\n",
    "# del df_c['自營商賣出股數(自行買賣)']\n",
    "# del df_c['自營商賣出股數(避險)']"
   ]
  },
  {
   "cell_type": "code",
   "execution_count": 250,
   "metadata": {
    "collapsed": true
   },
   "outputs": [],
   "source": [
    "def batch_data(df_c,time_steps,seperate_rate,shift_days):\n",
    "    del df_c['Unnamed: 0']\n",
    "    del df_c['證券代號']\n",
    "    del df_c['本益比']\n",
    "    del df_c['成交金額']\n",
    "    del df_c['證券名稱']\n",
    "    empty_li = df_c[df_c['漲跌(+/-)']=='X'].index.values\n",
    "    for i in empty_li:\n",
    "        df_c = df_c.drop(i)\n",
    "    empty_li = df_c[df_c['漲跌(+/-)']==' '].index.values\n",
    "    for i in empty_li:\n",
    "        df_c = df_c.drop(i)\n",
    "    empty_li = df_c[df_c['收盤價']=='X'].index.values\n",
    "    for i in empty_li:\n",
    "        df_c = df_c.drop(i)\n",
    "    empty_li = df_c[df_c['收盤價']==' '].index.values\n",
    "    for i in empty_li:\n",
    "        df_c = df_c.drop(i)\n",
    "    df_c['成交筆數']=df_c['成交筆數'].str.replace(',','')\n",
    "    df_c['成交股數']=df_c['成交股數'].str.replace(',','')\n",
    "    df_c.三大法人買賣超股數 = df_c.三大法人買賣超股數.astype(str)\n",
    "    df_c['三大法人買賣超股數']=df_c['三大法人買賣超股數'].str.replace(',','').str.replace('nan','0')\n",
    "    df_c.收盤價 = df_c.收盤價.astype(str)\n",
    "    df_c['收盤價']=df_c['收盤價'].str.replace(',','').str.replace('nan','0')\n",
    "    df_c.三大法人買賣超股數 = df_c.三大法人買賣超股數.astype(float)\n",
    "    df_c['三大法人買賣超股數'].fillna(0)\n",
    "    df_c.成交筆數 = df_c.成交筆數.astype(float)\n",
    "    df_c.成交股數 = df_c.成交股數.astype(float)\n",
    "    df_c.收盤價 = df_c.收盤價.astype(float)\n",
    "    df_c.最低價 = df_c.最低價.astype(float)\n",
    "    df_c.最高價 = df_c.最高價.astype(float)\n",
    "    df_c.開盤價 = df_c.開盤價.astype(float)\n",
    "    df_c.漲跌價差 = df_c.漲跌價差.astype(float)\n",
    "    df_c['return'] = np.where(df_c['漲跌(+/-)'] !='+',df_c['漲跌價差']*-1, df_c['漲跌價差'])\n",
    "    df_c['return']=df_c['return'].shift(-1)\n",
    "#     df_c['label'] = (df_c['return']+df_c['return'].shift(-7)+df_c['return'].shift(-6)+df_c['return'].shift(-5)+df_c['return'].shift(-4)+df_c['return'].shift(-3)+df_c['return'].shift(-2)+df_c['return'].shift(-1))/df_c['收盤價']*100\n",
    "#     df_c['label'] = (df_c['return']+df_c['return'].shift(-2)+df_c['return'].shift(-1))/df_c['收盤價']*100\n",
    "    df_c['label'] = (df_c['收盤價'].shift(-(shift_days))-df_c['收盤價'])/df_c['收盤價']*10\n",
    "    df_c.label = df_c.label.astype(str)\n",
    "    df_c['label']=df_c['label'].str.replace(',','').str.replace('nan','0')\n",
    "    df_c.label = df_c.label.astype(float)\n",
    "    print(df_c['label'].describe())\n",
    "    plt.hist(df_c['label'])\n",
    "    plt.show()\n",
    "#     min_max_scaler = MinMaxScaler(feature_range=(-1,1))\n",
    "    \n",
    "#     df_c['label']=min_max_scaler.fit_transform(df_c['label'].fillna(0).reshape(-1,1))\n",
    "#     df_c['label']=min_max_scaler.fit_transform(df_c['label'].reshape(-1,1))\n",
    "    dd=df_c[['日期','收盤價','三大法人買賣超股數','成交股數']]\n",
    "    del df_c['漲跌(+/-)']\n",
    "    del df_c['漲跌價差']\n",
    "    del df_c['return']\n",
    "    d= df_c['日期']\n",
    "    del df_c['日期']\n",
    "    #remove feature\n",
    "    del df_c['開盤價']\n",
    "    print(df_c.columns.values)\n",
    "    print(df_c.shape)\n",
    "    min_max_scaler = MinMaxScaler(feature_range=(-1, 1))\n",
    "    for i in range(len(df_c.columns)-1):\n",
    "        df_c[df_c.columns[i]] =min_max_scaler.fit_transform(np.array(df_c[df_c.columns[i]]).reshape(-1,1))\n",
    "    Y_batch = df_c['label']\n",
    "    del df_c['label']\n",
    "    X_batch = df_c\n",
    "    X_batch = np.array(X_batch)\n",
    "    Y_batch = np.array(Y_batch)\n",
    "#     Y_batch = np_utils.to_categorical(Y_batch)\n",
    "    n = len(X_batch)\n",
    "    drop_n = n%time_steps\n",
    "    X_batch_t=[]\n",
    "    Y_batch_t=[]\n",
    "    for i in range(0,len(X_batch)-time_steps):\n",
    "        X_batch_t.append(X_batch[i:i+time_steps])\n",
    "        Y_batch_t.append(Y_batch[i+time_steps])\n",
    "    train_size = math.ceil(len(X_batch_t)*seperate_rate)\n",
    "    X_batch_t_train =  X_batch_t[:train_size]\n",
    "    Y_batch_t_train = Y_batch_t[:train_size]\n",
    "    X_batch_t_test = X_batch_t[train_size:]\n",
    "    Y_batch_t_test = Y_batch_t[train_size:]\n",
    "    X_batch_t_train=np.array(X_batch_t_train)\n",
    "    Y_batch_t_train=np.array(Y_batch_t_train)\n",
    "    X_batch_t_test=np.array(X_batch_t_test)\n",
    "    Y_batch_t_test=np.array(Y_batch_t_test)\n",
    "    return X_batch_t_train,Y_batch_t_train,X_batch_t_test,Y_batch_t_test,dd"
   ]
  },
  {
   "cell_type": "code",
   "execution_count": 251,
   "metadata": {
    "collapsed": true
   },
   "outputs": [],
   "source": [
    "def g_b(X_batch_t_train,Y_batch_t_train,X_batch_t_test,Y_batch_t_test,BATCH_SIZE):\n",
    "    X_batch_t_train_b=[]\n",
    "    Y_batch_t_train_b=[]\n",
    "    dn= (X_batch_t_train.shape[0])%BATCH_SIZE\n",
    "    for i in range(dn,X_batch_t_train.shape[0],BATCH_SIZE):\n",
    "        X_batch_t_train_b.append(X_batch_t_train[i:i+BATCH_SIZE])\n",
    "        Y_batch_t_train_b.append(Y_batch_t_train[i:i+BATCH_SIZE])\n",
    "    X_batch_t_train_b=np.array(X_batch_t_train_b)\n",
    "    Y_batch_t_train_b=np.array(Y_batch_t_train_b)\n",
    "    dn= (X_batch_t_test.shape[0])%BATCH_SIZE\n",
    "    X_batch_t_test_b=[]\n",
    "    Y_batch_t_test_b=[]\n",
    "    \n",
    "    for i in range(dn,X_batch_t_test.shape[0],BATCH_SIZE):\n",
    "        X_batch_t_test_b.append(X_batch_t_test[i:i+BATCH_SIZE])\n",
    "        Y_batch_t_test_b.append(Y_batch_t_test[i:i+BATCH_SIZE])\n",
    "    X_batch_t_test_b=np.array(X_batch_t_test_b)\n",
    "    Y_batch_t_test_b=np.array(Y_batch_t_test_b) \n",
    "    return X_batch_t_train_b,Y_batch_t_train_b,X_batch_t_test_b,Y_batch_t_test_b"
   ]
  },
  {
   "cell_type": "code",
   "execution_count": 252,
   "metadata": {
    "collapsed": true
   },
   "outputs": [],
   "source": [
    "time_steps=15\n",
    "seperate_rate=0.7\n",
    "TIME_STEPS = time_steps\n",
    "LR = 0.0001\n",
    "shift_days=3"
   ]
  },
  {
   "cell_type": "code",
   "execution_count": 253,
   "metadata": {},
   "outputs": [
    {
     "data": {
      "image/png": "[encoded data removed]",
      "text/plain": [
       "<Figure size 432x288 with 1 Axes>"
      ]
     },
     "metadata": {},
     "output_type": "display_data"
    }
   ],
   "source": [
    "plt.hist(X_batch_t_test.flatten())\n",
    "plt.show()"
   ]
  },
  {
   "cell_type": "code",
   "execution_count": 254,
   "metadata": {},
   "outputs": [
    {
     "data": {
      "image/png": "[encoded data removed]",
      "text/plain": [
       "<Figure size 432x288 with 1 Axes>"
      ]
     },
     "metadata": {},
     "output_type": "display_data"
    }
   ],
   "source": [
    "plt.hist(Y_batch_t_test.flatten())\n",
    "plt.show()"
   ]
  },
  {
   "cell_type": "code",
   "execution_count": 255,
   "metadata": {},
   "outputs": [
    {
     "name": "stdout",
     "output_type": "stream",
     "text": [
      "count    1280.000000\n",
      "mean       -0.000766\n",
      "std         0.291742\n",
      "min        -1.389365\n",
      "25%        -0.126733\n",
      "50%        -0.015540\n",
      "75%         0.121258\n",
      "max         1.493849\n",
      "Name: label, dtype: float64\n"
     ]
    },
    {
     "data": {
      "image/png": "[encoded data removed]",
      "text/plain": [
       "<Figure size 432x288 with 1 Axes>"
      ]
     },
     "metadata": {},
     "output_type": "display_data"
    },
    {
     "name": "stdout",
     "output_type": "stream",
     "text": [
      "['三大法人買賣超股數' '成交筆數' '成交股數' '收盤價' '最低價' '最高價' 'label']\n",
      "(1280, 7)\n"
     ]
    }
   ],
   "source": [
    "X_batch_t_train,Y_batch_t_train,X_batch_t_test,Y_batch_t_test,dd=batch_data(df_c,time_steps,seperate_rate,shift_days)"
   ]
  },
  {
   "cell_type": "code",
   "execution_count": 256,
   "metadata": {},
   "outputs": [
    {
     "name": "stdout",
     "output_type": "stream",
     "text": [
      "(886, 15, 6) (379, 15, 6)\n"
     ]
    }
   ],
   "source": [
    "print(X_batch_t_train.shape,X_batch_t_test.shape)"
   ]
  },
  {
   "cell_type": "code",
   "execution_count": 257,
   "metadata": {
    "collapsed": true
   },
   "outputs": [],
   "source": [
    "INPUT_SIZE = X_batch_t_train.shape[2]\n",
    "BATCH_SIZE=127"
   ]
  },
  {
   "cell_type": "code",
   "execution_count": 258,
   "metadata": {
    "collapsed": true
   },
   "outputs": [],
   "source": [
    "X_batch_t_train_b,Y_batch_t_train_b,X_batch_t_test_b,Y_batch_t_test_b=g_b( X_batch_t_train,Y_batch_t_train,X_batch_t_test,Y_batch_t_test,BATCH_SIZE)"
   ]
  },
  {
   "cell_type": "code",
   "execution_count": 259,
   "metadata": {
    "collapsed": true
   },
   "outputs": [],
   "source": [
    "INPUT_SIZE = 6\n",
    "CELL_SIZE = 30\n",
    "OUTPUT_SIZE=16\n",
    "LR = 0.0001*0.5\n",
    "epoch = 2001"
   ]
  },
  {
   "cell_type": "code",
   "execution_count": 260,
   "metadata": {},
   "outputs": [
    {
     "name": "stderr",
     "output_type": "stream",
     "text": [
      "D:\\Anaconda3\\lib\\site-packages\\ipykernel_launcher.py:6: UserWarning: Update your `LSTM` call to the Keras 2 API: `LSTM(batch_input_shape=(127, 15, ..., return_sequences=False, stateful=True, units=256)`\n",
      "  \n"
     ]
    }
   ],
   "source": [
    "model =Sequential()\n",
    "model.add(LSTM(\n",
    "    batch_input_shape=(BATCH_SIZE,TIME_STEPS, INPUT_SIZE),\n",
    "    output_dim=256,\n",
    "    return_sequences=False,\n",
    "    stateful=True,\n",
    "))\n",
    "# model.add(Dense(batch_input_shape=BATCH_SIZE*TIME_STEPS,activation='tanh'))\n",
    "model.add(Dropout(0.3))\n",
    "model.add(Dense(128))\n",
    "model.add(Dense(64))\n",
    "model.add(Dense(8))\n",
    "model.add(Dense(1))\n",
    "adam = Adam(LR)\n",
    "model.compile(optimizer=adam,\n",
    "              loss='mse')"
   ]
  },
  {
   "cell_type": "code",
   "execution_count": 261,
   "metadata": {},
   "outputs": [
    {
     "data": {
      "text/plain": [
       "(127, 15, 6)"
      ]
     },
     "execution_count": 261,
     "metadata": {},
     "output_type": "execute_result"
    }
   ],
   "source": [
    "X_batch_t_test_b[-1].shape"
   ]
  },
  {
   "cell_type": "code",
   "execution_count": 262,
   "metadata": {},
   "outputs": [
    {
     "name": "stdout",
     "output_type": "stream",
     "text": [
      "cl 0.1432805\n",
      "train cost:  0.08148102 epoch:  0\n",
      "cl 0.1026202\n",
      "train cost:  0.05188675 epoch:  100\n",
      "cl 0.098005235\n",
      "train cost:  0.051566992 epoch:  200\n",
      "cl 0.09649413\n",
      "train cost:  0.052210588 epoch:  300\n",
      "cl 0.09448597\n",
      "train cost:  0.05631698 epoch:  400\n",
      "cl 0.09190374\n",
      "train cost:  0.05596251 epoch:  500\n",
      "cl 0.08786156\n",
      "train cost:  0.058302294 epoch:  600\n",
      "cl 0.08568423\n",
      "train cost:  0.055521235 epoch:  700\n",
      "cl 0.083360784\n",
      "train cost:  0.0548766 epoch:  800\n",
      "cl 0.08048886\n",
      "train cost:  0.046174943 epoch:  900\n",
      "cl 0.07693875\n",
      "train cost:  0.049754154 epoch:  1000\n",
      "cl 0.07345274\n",
      "train cost:  0.047923643 epoch:  1100\n",
      "cl 0.07340134\n",
      "train cost:  0.049941055 epoch:  1200\n",
      "cl 0.069396004\n",
      "train cost:  0.047911506 epoch:  1300\n",
      "cl 0.06778014\n",
      "train cost:  0.048091758 epoch:  1400\n",
      "cl 0.06416303\n",
      "train cost:  0.04714804 epoch:  1500\n",
      "cl 0.06205584\n",
      "train cost:  0.04831189 epoch:  1600\n",
      "cl 0.06019938\n",
      "train cost:  0.04106275 epoch:  1700\n",
      "cl 0.057658933\n",
      "train cost:  0.03885521 epoch:  1800\n",
      "cl 0.05840881\n",
      "train cost:  0.037194993 epoch:  1900\n",
      "cl 0.05626961\n",
      "train cost:  0.04107256 epoch:  2000\n",
      "耗時:423.3217239379883s\n"
     ]
    }
   ],
   "source": [
    "cl = []\n",
    "start_time = time.time()\n",
    "cl_chart=[]\n",
    "for epoch in range(epoch):\n",
    "    for i in range(X_batch_t_train_b.shape[0]):\n",
    "#         print(X.shape)\n",
    "        X = X_batch_t_train_b[i].reshape(BATCH_SIZE,TIME_STEPS,INPUT_SIZE)\n",
    "        Y = Y_batch_t_train_b[i].reshape(BATCH_SIZE,1)\n",
    "        cost = model.train_on_batch(X,Y)\n",
    "#         pred = model.predict_class(X,Y)\n",
    "#         pred = model.predict(X, 1)\n",
    "#         cl_chart.append(cost)\n",
    "#         if cost<20:\n",
    "#             cl.append(cost)\n",
    "        cl.append(cost)\n",
    "    if epoch % 100  == 0:\n",
    "        print('cl',np.average(cl))\n",
    "        print('train cost: ', cost,'epoch: ',epoch)\n",
    "#         print('class',pred)\n",
    "        cl=[]\n",
    "t=(start_time-time.time())*-1\n",
    "print('耗時:'+str(t)+'s')"
   ]
  },
  {
   "cell_type": "code",
   "execution_count": 218,
   "metadata": {
    "collapsed": true
   },
   "outputs": [],
   "source": [
    "yhat=[]\n",
    "for i in range((X_batch_t_test_b).shape[0]):\n",
    "    yhat.append(model.predict_on_batch((X_batch_t_test_b[i])))\n",
    "yhat = np.array(yhat)"
   ]
  },
  {
   "cell_type": "code",
   "execution_count": 219,
   "metadata": {
    "collapsed": true
   },
   "outputs": [],
   "source": [
    "# for i in range((X_batch_t_test_b).shape[0]):\n",
    "#     cost = model.train_on_batch(X_batch_t_test_b[i],Y_batch_t_test_b[i])\n",
    "#     print(cost)"
   ]
  },
  {
   "cell_type": "code",
   "execution_count": 220,
   "metadata": {
    "collapsed": true
   },
   "outputs": [],
   "source": [
    "yhat=yhat.flatten()\n",
    "Y_batch_t_test_b=Y_batch_t_test_b.flatten()"
   ]
  },
  {
   "cell_type": "code",
   "execution_count": 221,
   "metadata": {
    "collapsed": true
   },
   "outputs": [],
   "source": [
    "for i in range(-1,-1*(shift_days+1),-1):\n",
    "    Y_batch_t_test_b[i]=Y_batch_t_test_b[-1*(shift_days+1)]"
   ]
  },
  {
   "cell_type": "code",
   "execution_count": 222,
   "metadata": {},
   "outputs": [
    {
     "data": {
      "image/png": "[encoded data removed]",
      "text/plain": [
       "<Figure size 432x288 with 1 Axes>"
      ]
     },
     "metadata": {},
     "output_type": "display_data"
    },
    {
     "data": {
      "image/png": "[encoded data removed]",
      "text/plain": [
       "<Figure size 432x288 with 1 Axes>"
      ]
     },
     "metadata": {},
     "output_type": "display_data"
    },
    {
     "data": {
      "image/png": "[encoded data removed]",
      "text/plain": [
       "<Figure size 432x288 with 1 Axes>"
      ]
     },
     "metadata": {},
     "output_type": "display_data"
    },
    {
     "name": "stdout",
     "output_type": "stream",
     "text": [
      "mse: 0.000416613133731158\n"
     ]
    }
   ],
   "source": [
    "#results\n",
    "yhat=np.array(yhat).flatten()\n",
    "plt.plot(yhat,color='blue')\n",
    "plt.show()\n",
    "plt.plot(Y_batch_t_test_b,color='red')\n",
    "plt.show()\n",
    "plt.plot(Y_batch_t_test_b,color='red')\n",
    "plt.plot(yhat,color='blue')\n",
    "plt.show()\n",
    "print('mse: '+str(np.average((yhat-Y_batch_t_test_b)**2)))"
   ]
  },
  {
   "cell_type": "code",
   "execution_count": 229,
   "metadata": {},
   "outputs": [
    {
     "name": "stderr",
     "output_type": "stream",
     "text": [
      "D:\\Anaconda3\\lib\\site-packages\\ipykernel_launcher.py:2: SettingWithCopyWarning: \n",
      "A value is trying to be set on a copy of a slice from a DataFrame.\n",
      "Try using .loc[row_indexer,col_indexer] = value instead\n",
      "\n",
      "See the caveats in the documentation: http://pandas.pydata.org/pandas-docs/stable/indexing.html#indexing-view-versus-copy\n",
      "  \n",
      "D:\\Anaconda3\\lib\\site-packages\\ipykernel_launcher.py:3: SettingWithCopyWarning: \n",
      "A value is trying to be set on a copy of a slice from a DataFrame.\n",
      "Try using .loc[row_indexer,col_indexer] = value instead\n",
      "\n",
      "See the caveats in the documentation: http://pandas.pydata.org/pandas-docs/stable/indexing.html#indexing-view-versus-copy\n",
      "  This is separate from the ipykernel package so we can avoid doing imports until\n"
     ]
    },
    {
     "data": {
      "image/png": "[encoded data removed]",
      "text/plain": [
       "<Figure size 432x288 with 1 Axes>"
      ]
     },
     "metadata": {},
     "output_type": "display_data"
    },
    {
     "data": {
      "image/png": "[encoded data removed]",
      "text/plain": [
       "<Figure size 432x288 with 1 Axes>"
      ]
     },
     "metadata": {},
     "output_type": "display_data"
    },
    {
     "data": {
      "text/plain": [
       "count    381.000000\n",
       "mean      -0.000087\n",
       "std        0.005401\n",
       "min       -0.015610\n",
       "25%       -0.003156\n",
       "50%        0.000477\n",
       "75%        0.003944\n",
       "max        0.015399\n",
       "Name: s, dtype: float64"
      ]
     },
     "execution_count": 229,
     "metadata": {},
     "output_type": "execute_result"
    }
   ],
   "source": [
    "df_c_p = dd[-(yhat.shape[0]):]\n",
    "df_c_p['s']=yhat\n",
    "df_c_p['y']=Y_batch_t_test_b\n",
    "plt.hist(df_c_p['s'])\n",
    "plt.show()\n",
    "plt.hist(df_c_p['y'])\n",
    "plt.show()\n",
    "df_c_p['s'].describe()"
   ]
  },
  {
   "cell_type": "code",
   "execution_count": null,
   "metadata": {
    "collapsed": true
   },
   "outputs": [],
   "source": []
  },
  {
   "cell_type": "code",
   "execution_count": 234,
   "metadata": {},
   "outputs": [
    {
     "name": "stdout",
     "output_type": "stream",
     "text": [
      "profit: -2.100000000000012\n"
     ]
    }
   ],
   "source": [
    "s = 0\n",
    "own=0\n",
    "trade_record=[]\n",
    "profit=[]\n",
    "for i in range(df_c_p.shape[0]):\n",
    "    price = float(df_c_p.iloc[i]['收盤價'])\n",
    "    signal = df_c_p.iloc[i]['s']\n",
    "    date=df_c_p.iloc[i]['日期']\n",
    "    if own==0 :\n",
    "        if signal>s:\n",
    "            own=1\n",
    "            trade_record.append([i,'buy',price,date,signal])\n",
    "    if own>0:\n",
    "        if i-trade_record[-1][0]<shift_days:\n",
    "            if signal<-s:\n",
    "                own=0\n",
    "                profit.append(price-trade_record[-1][2])\n",
    "                trade_record.append([i,'sell',price,date,signal])\n",
    "        elif i-trade_record[-1][0]==shift_days:\n",
    "            own=0\n",
    "            profit.append(price-trade_record[-1][2])\n",
    "            trade_record.append([i,'sell',price,date,signal])\n",
    "print('profit: '+str(sum(profit)))"
   ]
  },
  {
   "cell_type": "code",
   "execution_count": 235,
   "metadata": {},
   "outputs": [
    {
     "data": {
      "text/plain": [
       "[[2, 'buy', 28.9, 20160608.0, 0.0007428146782331169],\n",
       " [3, 'sell', 28.6, 20160613.0, -1.7051395843736827e-05],\n",
       " [4, 'buy', 28.75, 20160614.0, 0.0008109576883725822],\n",
       " [5, 'sell', 28.65, 20160615.0, -0.0010052404832094908],\n",
       " [32, 'buy', 26.45, 20160801.0, 0.0013022639323025942],\n",
       " [34, 'sell', 26.4, 20160803.0, -1.5717741916887462e-05],\n",
       " [35, 'buy', 26.5, 20160804.0, 0.0017035857308655977],\n",
       " [38, 'sell', 27.0, 20160810.0, 0.004283866845071316],\n",
       " [39, 'buy', 26.0, 20160811.0, 0.0026404105592519045],\n",
       " [42, 'sell', 25.75, 20160816.0, 0.004324723966419697],\n",
       " [43, 'buy', 25.55, 20160817.0, 0.003543908940628171],\n",
       " [46, 'sell', 25.3, 20160822.0, 0.0026443630922585726],\n",
       " [47, 'buy', 25.6, 20160823.0, 0.002706206636503339],\n",
       " [50, 'sell', 25.7, 20160826.0, -0.0012826330494135618],\n",
       " [53, 'buy', 25.4, 20160831.0, 0.0007172554614953697],\n",
       " [56, 'sell', 25.9, 20160905.0, 0.005538596771657467],\n",
       " [57, 'buy', 25.85, 20160906.0, 0.0023616787511855364],\n",
       " [60, 'sell', 26.5, 20160909.0, -0.001008379040285945],\n",
       " [63, 'buy', 25.85, 20160913.0, 0.0009931952226907015],\n",
       " [66, 'sell', 25.95, 20160920.0, 0.001503917621448636],\n",
       " [67, 'buy', 26.05, 20160921.0, 0.0006264440598897636],\n",
       " [70, 'sell', 25.9, 20160926.0, 0.00017301291518379003],\n",
       " [71, 'buy', 25.8, 20160930.0, 0.0015755624044686556],\n",
       " [73, 'sell', 26.05, 20161005.0, -0.0011584542226046324],\n",
       " [91, 'buy', 25.0, 20161102.0, 0.0011921629775315523],\n",
       " [94, 'sell', 25.05, 20161107.0, 0.0005799710634164512],\n",
       " [100, 'buy', 23.75, 20161115.0, 6.01105421083048e-05],\n",
       " [103, 'sell', 24.0, 20161121.0, -0.0003890663501806557],\n",
       " [106, 'buy', 23.85, 20161124.0, 0.00046961678890511394],\n",
       " [107, 'sell', 23.9, 20161125.0, -0.001978256506845355],\n",
       " [113, 'buy', 24.15, 20161205.0, 0.005768864415585995],\n",
       " [116, 'sell', 24.4, 20161212.0, 0.0056084683164954185],\n",
       " [117, 'buy', 24.25, 20161213.0, 0.002361859427765012],\n",
       " [119, 'sell', 24.35, 20161216.0, -0.0029553070198744535],\n",
       " [123, 'buy', 24.35, 20161222.0, 0.0011331916321069002],\n",
       " [126, 'sell', 24.2, 20161228.0, -0.00013354494876693934],\n",
       " [138, 'buy', 24.85, 20170117.0, 0.0017253526020795107],\n",
       " [141, 'sell', 24.75, 20170120.0, 0.00431691762059927],\n",
       " [142, 'buy', 24.8, 20170123.0, 0.0006537988665513694],\n",
       " [144, 'sell', 24.7, 20170202.0, -0.0017258196603506804],\n",
       " [150, 'buy', 25.8, 20170213.0, 0.0012737468350678682],\n",
       " [153, 'sell', 25.95, 20170216.0, 0.006957533769309521],\n",
       " [154, 'buy', 26.0, 20170218.0, 0.007167368195950985],\n",
       " [157, 'sell', 26.6, 20170222.0, 0.006044927053153515],\n",
       " [158, 'buy', 26.85, 20170301.0, 0.005109286867082119],\n",
       " [161, 'sell', 26.5, 20170306.0, 0.005434294231235981],\n",
       " [162, 'buy', 26.7, 20170307.0, 0.006005485542118549],\n",
       " [165, 'sell', 26.5, 20170310.0, 0.004817306064069271],\n",
       " [166, 'buy', 26.05, 20170313.0, 0.0036273386795073748],\n",
       " [169, 'sell', 26.25, 20170316.0, 0.0028000802267342806],\n",
       " [170, 'buy', 26.4, 20170317.0, 0.0021800764370709658],\n",
       " [173, 'sell', 26.3, 20170322.0, 0.00308336247690022],\n",
       " [174, 'buy', 26.35, 20170323.0, 0.003372273640707135],\n",
       " [177, 'sell', 25.85, 20170328.0, 0.005064371041953564],\n",
       " [178, 'buy', 25.8, 20170329.0, 0.006570181809365749],\n",
       " [181, 'sell', 26.0, 20170405.0, 0.003337963717058301],\n",
       " [182, 'buy', 25.95, 20170406.0, 0.0022497691679745913],\n",
       " [185, 'sell', 25.9, 20170411.0, 0.006442331708967686],\n",
       " [186, 'buy', 25.85, 20170412.0, 0.007571657188236713],\n",
       " [189, 'sell', 25.35, 20170417.0, 0.006516258232295513],\n",
       " [190, 'buy', 25.55, 20170418.0, 0.0071993498131632805],\n",
       " [193, 'sell', 25.5, 20170421.0, 0.007487352006137371],\n",
       " [194, 'buy', 25.4, 20170424.0, 0.006690899841487408],\n",
       " [197, 'sell', 25.5, 20170427.0, 0.003064605640247464],\n",
       " [198, 'buy', 25.6, 20170428.0, 0.0028160803485661745],\n",
       " [201, 'sell', 25.85, 20170505.0, 0.0039484621956944466],\n",
       " [202, 'buy', 25.9, 20170508.0, 0.004365746863186359],\n",
       " [205, 'sell', 25.4, 20170511.0, 0.005308168940246105],\n",
       " [206, 'buy', 25.3, 20170512.0, 0.002515263156965375],\n",
       " [209, 'sell', 25.4, 20170518.0, 0.0013043687213212252],\n",
       " [210, 'buy', 25.35, 20170519.0, 0.002784769283607602],\n",
       " [213, 'sell', 25.7, 20170601.0, 0.003449290292337537],\n",
       " [214, 'buy', 25.8, 20170602.0, 0.0027586196083575487],\n",
       " [217, 'sell', 25.65, 20170606.0, 0.0040054479613900185],\n",
       " [218, 'buy', 25.6, 20170607.0, 0.004170211963355541],\n",
       " [221, 'sell', 25.4, 20170615.0, 0.006222191266715527],\n",
       " [222, 'buy', 25.45, 20170616.0, 0.006678241305053234],\n",
       " [225, 'sell', 25.6, 20170622.0, 0.006049382500350475],\n",
       " [226, 'buy', 25.55, 20170626.0, 0.005319966934621334],\n",
       " [229, 'sell', 25.4, 20170630.0, 0.006967191584408283],\n",
       " [230, 'buy', 25.35, 20170704.0, 0.007410763762891293],\n",
       " [233, 'sell', 25.2, 20170710.0, 0.002103469567373395],\n",
       " [234, 'buy', 25.25, 20170711.0, 0.004398881457746029],\n",
       " [237, 'sell', 25.35, 20170717.0, 0.003956819884479046],\n",
       " [238, 'buy', 25.45, 20170718.0, 0.0023655027616769075],\n",
       " [240, 'sell', 25.8, 20170720.0, -0.005215958692133427],\n",
       " [245, 'buy', 25.75, 20170728.0, 0.00012558810703922063],\n",
       " [248, 'sell', 24.9, 20170804.0, 0.004501777701079845],\n",
       " [249, 'buy', 24.75, 20170807.0, 0.0030361891258507967],\n",
       " [250, 'sell', 24.1, 20170810.0, -0.0005824983236379921],\n",
       " [257, 'buy', 22.8, 20170821.0, 0.00017519221000839025],\n",
       " [260, 'sell', 23.1, 20170824.0, 0.007126684300601482],\n",
       " [261, 'buy', 23.0, 20170828.0, 0.008937480859458447],\n",
       " [264, 'sell', 23.15, 20170831.0, 0.007437146268785],\n",
       " [265, 'buy', 23.05, 20170904.0, 0.007127801887691021],\n",
       " [268, 'sell', 22.6, 20170907.0, 0.0033336870837956667],\n",
       " [269, 'buy', 22.55, 20170908.0, 0.007026988081634045],\n",
       " [272, 'sell', 22.6, 20170915.0, 0.005841224454343319],\n",
       " [273, 'buy', 22.65, 20170918.0, 0.005519832484424114],\n",
       " [276, 'sell', 22.45, 20170921.0, 0.004080488346517086],\n",
       " [277, 'buy', 22.2, 20170922.0, 0.0002977169933728874],\n",
       " [278, 'sell', 21.75, 20170925.0, -0.0006475269910879433],\n",
       " [283, 'buy', 21.4, 20170930.0, 0.00014863834076095372],\n",
       " [284, 'sell', 21.7, 20171002.0, -0.00010814219422172755],\n",
       " [286, 'buy', 21.65, 20171005.0, 0.0005074620130471885],\n",
       " [289, 'sell', 21.7, 20171012.0, -0.0007186688599176705],\n",
       " [293, 'buy', 21.3, 20171018.0, 0.0009982094634324312],\n",
       " [296, 'sell', 21.35, 20171025.0, -0.0004343472537584603],\n",
       " [304, 'buy', 22.75, 20171107.0, 0.00282512535341084],\n",
       " [305, 'sell', 22.05, 20171109.0, -0.0010102770756930113],\n",
       " [311, 'buy', 21.4, 20171117.0, 0.0015034072566777468],\n",
       " [314, 'sell', 21.35, 20171122.0, 0.008008903823792934],\n",
       " [315, 'buy', 21.25, 20171123.0, 0.007437943480908871],\n",
       " [318, 'sell', 21.35, 20171128.0, -0.0002610877272672951],\n",
       " [342, 'buy', 20.25, 20180111.0, 0.007545868866145611],\n",
       " [345, 'sell', 20.35, 20180116.0, 0.0009892948437482119],\n",
       " [349, 'buy', 20.75, 20180124.0, 0.0004773765685968101],\n",
       " [351, 'sell', 20.55, 20180129.0, -0.0007448539254255593],\n",
       " [367, 'buy', 20.55, 20180302.0, 0.00030036194948479533],\n",
       " [368, 'sell', 20.25, 20180305.0, -0.00039297417970374227],\n",
       " [376, 'buy', 20.55, 20180316.0, 0.004766478203237057],\n",
       " [379, 'sell', 20.2, 20180322.0, 0.0032881342340260744],\n",
       " [380, 'buy', 20.0, 20180323.0, 0.005043028853833675]]"
      ]
     },
     "execution_count": 235,
     "metadata": {},
     "output_type": "execute_result"
    }
   ],
   "source": [
    "trade_record"
   ]
  },
  {
   "cell_type": "code",
   "execution_count": 236,
   "metadata": {},
   "outputs": [
    {
     "data": {
      "text/plain": [
       "[-0.29999999999999716,\n",
       " -0.10000000000000142,\n",
       " -0.05000000000000071,\n",
       " 0.5,\n",
       " -0.25,\n",
       " -0.25,\n",
       " 0.09999999999999787,\n",
       " 0.5,\n",
       " 0.6499999999999986,\n",
       " 0.09999999999999787,\n",
       " -0.15000000000000213,\n",
       " 0.25,\n",
       " 0.05000000000000071,\n",
       " 0.25,\n",
       " 0.04999999999999716,\n",
       " 0.25,\n",
       " 0.10000000000000142,\n",
       " -0.15000000000000213,\n",
       " -0.10000000000000142,\n",
       " -0.10000000000000142,\n",
       " 0.14999999999999858,\n",
       " 0.6000000000000014,\n",
       " -0.3500000000000014,\n",
       " -0.1999999999999993,\n",
       " 0.1999999999999993,\n",
       " -0.09999999999999787,\n",
       " -0.5,\n",
       " 0.1999999999999993,\n",
       " -0.05000000000000071,\n",
       " -0.5,\n",
       " -0.05000000000000071,\n",
       " 0.10000000000000142,\n",
       " 0.25,\n",
       " -0.5,\n",
       " 0.09999999999999787,\n",
       " 0.34999999999999787,\n",
       " -0.15000000000000213,\n",
       " -0.20000000000000284,\n",
       " 0.15000000000000213,\n",
       " -0.15000000000000213,\n",
       " -0.15000000000000213,\n",
       " 0.10000000000000142,\n",
       " 0.3500000000000014,\n",
       " -0.8500000000000014,\n",
       " -0.6499999999999986,\n",
       " 0.3000000000000007,\n",
       " 0.14999999999999858,\n",
       " -0.4499999999999993,\n",
       " 0.05000000000000071,\n",
       " -0.1999999999999993,\n",
       " -0.4499999999999993,\n",
       " 0.3000000000000007,\n",
       " 0.05000000000000071,\n",
       " 0.05000000000000071,\n",
       " -0.6999999999999993,\n",
       " -0.04999999999999716,\n",
       " 0.10000000000000142,\n",
       " 0.10000000000000142,\n",
       " -0.1999999999999993,\n",
       " -0.3000000000000007,\n",
       " -0.3500000000000014]"
      ]
     },
     "execution_count": 236,
     "metadata": {},
     "output_type": "execute_result"
    }
   ],
   "source": [
    "profit"
   ]
  },
  {
   "cell_type": "code",
   "execution_count": null,
   "metadata": {
    "collapsed": true
   },
   "outputs": [],
   "source": []
  },
  {
   "cell_type": "code",
   "execution_count": null,
   "metadata": {
    "collapsed": true
   },
   "outputs": [],
   "source": []
  }
 ],
 "metadata": {
  "kernelspec": {
   "display_name": "Python 3",
   "language": "python",
   "name": "python3"
  },
  "language_info": {
   "codemirror_mode": {
    "name": "ipython",
    "version": 3
   },
   "file_extension": ".py",
   "mimetype": "text/x-python",
   "name": "python",
   "nbconvert_exporter": "python",
   "pygments_lexer": "ipython3",
   "version": "3.6.3"
  }
 },
 "nbformat": 4,
 "nbformat_minor": 2
}
