{
 "cells": [
  {
   "cell_type": "code",
   "execution_count": 289,
   "metadata": {},
   "outputs": [],
   "source": [
    "import pandas as pd\n",
    "import numpy as np\n",
    "import os\n",
    "from sklearn.preprocessing import MinMaxScaler\n",
    "from keras.models import Sequential\n",
    "from keras.layers import LSTM, TimeDistributed, Dense,Dropout,Activation\n",
    "from keras.optimizers import Adam\n",
    "from keras.utils import np_utils\n",
    "import math\n",
    "import time\n",
    "import matplotlib.pyplot as plt"
   ]
  },
  {
   "cell_type": "code",
   "execution_count": 290,
   "metadata": {},
   "outputs": [
    {
     "name": "stderr",
     "output_type": "stream",
     "text": [
      "D:\\Anaconda3\\lib\\site-packages\\IPython\\core\\interactiveshell.py:2698: DtypeWarning: Columns (5,6,7,8,9,10,25,29,30,31,32,33,34,35,36) have mixed types. Specify dtype option on import or set low_memory=False.\n",
      "  interactivity=interactivity, compiler=compiler, result=result)\n"
     ]
    }
   ],
   "source": [
    "# df_all = pd.read_csv('../rnn_data/all/2013_2018_price.csv',encoding='utf-8')\n",
    "df_all = pd.read_csv('2012_2018_all.csv',encoding='utf-8')\n",
    "df_c = df_all.groupby('證券代號').get_group('2330')"
   ]
  },
  {
   "cell_type": "code",
   "execution_count": 291,
   "metadata": {},
   "outputs": [
    {
     "data": {
      "text/plain": [
       "array(['Unnamed: 0', '三大法人買賣超股數', '外資自營商買賣超股數', '外資自營商買進股數', '外資自營商賣出股數',\n",
       "       '外資買賣超股數', '外資買進股數', '外資賣出股數', '外陸資買賣超股數(不含外資自營商)',\n",
       "       '外陸資買進股數(不含外資自營商)', '外陸資賣出股數(不含外資自營商)', '成交筆數', '成交股數', '成交金額',\n",
       "       '投信買賣超股數', '投信買進股數', '投信賣出股數', '收盤價', '日期', '最低價', '最後揭示買價',\n",
       "       '最後揭示買量', '最後揭示賣價', '最後揭示賣量', '最高價', '本益比', '漲跌(+/-)', '漲跌價差',\n",
       "       '自營商買賣超股數', '自營商買賣超股數(自行買賣)', '自營商買賣超股數(避險)', '自營商買進股數',\n",
       "       '自營商買進股數(自行買賣)', '自營商買進股數(避險)', '自營商賣出股數', '自營商賣出股數(自行買賣)',\n",
       "       '自營商賣出股數(避險)', '證券代號', '證券名稱', '開盤價'], dtype=object)"
      ]
     },
     "execution_count": 291,
     "metadata": {},
     "output_type": "execute_result"
    }
   ],
   "source": [
    "df_c.columns.values"
   ]
  },
  {
   "cell_type": "code",
   "execution_count": 292,
   "metadata": {
    "collapsed": true
   },
   "outputs": [],
   "source": [
    "# del df_c['三大法人買賣超股數']\n",
    "del df_c['外資自營商買賣超股數']\n",
    "del df_c['外資自營商買進股數']\n",
    "del df_c['外資自營商賣出股數']\n",
    "del df_c['外資買賣超股數']\n",
    "del df_c['外資買進股數']\n",
    "del df_c['外資賣出股數']\n",
    "del df_c['外陸資買賣超股數(不含外資自營商)']\n",
    "del df_c['外陸資買進股數(不含外資自營商)']\n",
    "del df_c['外陸資賣出股數(不含外資自營商)']\n",
    "del df_c['投信買賣超股數']\n",
    "del df_c['投信買進股數']\n",
    "del df_c['投信賣出股數']\n",
    "del df_c['最後揭示買價']\n",
    "del df_c['自營商買賣超股數']\n",
    "del df_c['自營商買賣超股數(自行買賣)']\n",
    "del df_c['自營商買賣超股數(避險)']\n",
    "del df_c['自營商買進股數']\n",
    "del df_c['最後揭示買量']\n",
    "del df_c['最後揭示賣價']\n",
    "del df_c['最後揭示賣量']\n",
    "del df_c['自營商賣出股數']\n",
    "del df_c['自營商買進股數(避險)']\n",
    "del df_c['自營商賣出股數(自行買賣)']\n",
    "del df_c['自營商賣出股數(避險)']\n",
    "del df_c['自營商買進股數(自行買賣)']\n",
    "# del df_c['自營商賣出股數(自行買賣)']\n",
    "# del df_c['自營商賣出股數(避險)']"
   ]
  },
  {
   "cell_type": "code",
   "execution_count": 265,
   "metadata": {
    "collapsed": true
   },
   "outputs": [],
   "source": [
    "def batch_data(df_c,time_steps,seperate_rate):\n",
    "    del df_c['Unnamed: 0']\n",
    "    del df_c['證券代號']\n",
    "    del df_c['本益比']\n",
    "    del df_c['成交金額']\n",
    "    del df_c['證券名稱']\n",
    "    empty_li = df_c[df_c['漲跌(+/-)']=='X'].index.values\n",
    "    for i in empty_li:\n",
    "        df_c = df_c.drop(i)\n",
    "    empty_li = df_c[df_c['漲跌(+/-)']==' '].index.values\n",
    "    for i in empty_li:\n",
    "        df_c = df_c.drop(i)\n",
    "    empty_li = df_c[df_c['收盤價']=='X'].index.values\n",
    "    for i in empty_li:\n",
    "        df_c = df_c.drop(i)\n",
    "    empty_li = df_c[df_c['收盤價']==' '].index.values\n",
    "    for i in empty_li:\n",
    "        df_c = df_c.drop(i)\n",
    "    df_c['成交筆數']=df_c['成交筆數'].str.replace(',','')\n",
    "    df_c['成交股數']=df_c['成交股數'].str.replace(',','')\n",
    "    df_c['三大法人買賣超股數']=df_c['三大法人買賣超股數'].str.replace(',','')\n",
    "    df_c.三大法人買賣超股數 = df_c.三大法人買賣超股數.astype(float)\n",
    "    df_c.成交筆數 = df_c.成交筆數.astype(float)\n",
    "    df_c.成交股數 = df_c.成交股數.astype(float)\n",
    "    df_c.收盤價 = df_c.收盤價.astype(float)\n",
    "    df_c.最低價 = df_c.最低價.astype(float)\n",
    "    df_c.最高價 = df_c.最高價.astype(float)\n",
    "    df_c.開盤價 = df_c.開盤價.astype(float)\n",
    "    df_c.漲跌價差 = df_c.漲跌價差.astype(float)\n",
    "    df_c['return'] = np.where(df_c['漲跌(+/-)'] !='+',df_c['漲跌價差']*-1, df_c['漲跌價差'])\n",
    "    df_c['return']=df_c['return'].shift(-1)\n",
    "#     df_c['label'] = (df_c['return']+df_c['return'].shift(-7)+df_c['return'].shift(-6)+df_c['return'].shift(-5)+df_c['return'].shift(-4)+df_c['return'].shift(-3)+df_c['return'].shift(-2)+df_c['return'].shift(-1))/df_c['收盤價']*100\n",
    "#     df_c['label'] = (df_c['return']+df_c['return'].shift(-2)+df_c['return'].shift(-1))/df_c['收盤價']*100\n",
    "    df_c['label'] = (df_c['收盤價'].shift(-5)-df_c['收盤價'])/df_c['收盤價']*10\n",
    "    df_c1=df_c\n",
    "    \n",
    "#     min_max_scaler = MinMaxScaler(feature_range=(-1,1))\n",
    "#     df_c['label']=min_max_scaler.fit_transform(df_c['label'].fillna(0).reshape(-1,1))\n",
    "#     df_c['label']=min_max_scaler.fit_transform(df_c['收盤價'].shift(-2).fillna(0).reshape(-1,1))\n",
    "    del df_c['漲跌(+/-)']\n",
    "    del df_c['漲跌價差']\n",
    "    del df_c['return']\n",
    "    d= df_c['日期']\n",
    "    del df_c['日期']\n",
    "    \n",
    "    \n",
    "    \n",
    "    #remove feature\n",
    "    del df_c['開盤價']\n",
    "    \n",
    "    \n",
    "    \n",
    "    print(df_c.columns.values)\n",
    "    print(df_c.shape)\n",
    "    min_max_scaler = MinMaxScaler(feature_range=(-1, 1))\n",
    "    for i in range(len(df_c.columns)-1):\n",
    "        df_c[df_c.columns[i]] =min_max_scaler.fit_transform(np.array(df_c[df_c.columns[i]]).reshape(-1,1))\n",
    "    Y_batch = df_c['label']\n",
    "    del df_c['label']\n",
    "    X_batch = df_c\n",
    "    X_batch = np.array(X_batch)\n",
    "    Y_batch = np.array(Y_batch)\n",
    "    \n",
    "#     Y_batch = np_utils.to_categorical(Y_batch)\n",
    "    n = len(X_batch)\n",
    "    drop_n = n%time_steps\n",
    "    X_batch_t=[]\n",
    "    Y_batch_t=[]\n",
    "    for i in range(0,len(X_batch)-time_steps):\n",
    "        X_batch_t.append(X_batch[i:i+time_steps])\n",
    "        Y_batch_t.append(Y_batch[i+time_steps])\n",
    "    train_size = math.ceil(len(X_batch_t)*seperate_rate)\n",
    "    X_batch_t_train =  X_batch_t[:train_size]\n",
    "    Y_batch_t_train = Y_batch_t[:train_size]\n",
    "    X_batch_t_test = X_batch_t[train_size:]\n",
    "    Y_batch_t_test = Y_batch_t[train_size:]\n",
    "    X_batch_t_train=np.array(X_batch_t_train)\n",
    "    Y_batch_t_train=np.array(Y_batch_t_train)\n",
    "    X_batch_t_test=np.array(X_batch_t_test)\n",
    "    Y_batch_t_test=np.array(Y_batch_t_test)\n",
    "    return X_batch_t_train,Y_batch_t_train,X_batch_t_test,Y_batch_t_test,df_c"
   ]
  },
  {
   "cell_type": "code",
   "execution_count": 266,
   "metadata": {
    "collapsed": true
   },
   "outputs": [],
   "source": [
    "def g_b(X_batch_t_train,Y_batch_t_train,X_batch_t_test,Y_batch_t_test,BATCH_SIZE):\n",
    "    X_batch_t_train_b=[]\n",
    "    Y_batch_t_train_b=[]\n",
    "    dn= X_batch_t_train.shape[0]%BATCH_SIZE\n",
    "    print(dn)\n",
    "    for i in range(dn,X_batch_t_train.shape[0],BATCH_SIZE):\n",
    "        X_batch_t_train_b.append(X_batch_t_train[i:i+BATCH_SIZE])\n",
    "        Y_batch_t_train_b.append(Y_batch_t_train[i:i+BATCH_SIZE])\n",
    "    X_batch_t_train_b=np.array(X_batch_t_train_b)\n",
    "    Y_batch_t_train_b=np.array(Y_batch_t_train_b)\n",
    "    X_batch_t_test_b=[]\n",
    "    Y_batch_t_test_b=[]\n",
    "    for i in range(0,X_batch_t_test.shape[0],BATCH_SIZE):\n",
    "        X_batch_t_test_b.append(X_batch_t_test[i:i+BATCH_SIZE])\n",
    "        Y_batch_t_test_b.append(Y_batch_t_test[i:i+BATCH_SIZE])\n",
    "    X_batch_t_test_b=np.array(X_batch_t_test_b)\n",
    "    Y_batch_t_test_b=np.array(Y_batch_t_test_b) \n",
    "    return X_batch_t_train_b,Y_batch_t_train_b,X_batch_t_test_b,Y_batch_t_test_b"
   ]
  },
  {
   "cell_type": "code",
   "execution_count": 267,
   "metadata": {
    "collapsed": true
   },
   "outputs": [],
   "source": [
    "time_steps=60\n",
    "seperate_rate=0.7\n",
    "TIME_STEPS = time_steps\n",
    "INPUT_SIZE = 6\n",
    "CELL_SIZE = 3\n",
    "OUTPUT_SIZE=16\n",
    "LR = 0.0001"
   ]
  },
  {
   "cell_type": "code",
   "execution_count": 268,
   "metadata": {},
   "outputs": [
    {
     "name": "stdout",
     "output_type": "stream",
     "text": [
      "['三大法人買賣超股數' '成交筆數' '成交股數' '收盤價' '最低價' '最高價' 'label']\n",
      "(1271, 7)\n"
     ]
    }
   ],
   "source": [
    "X_batch_t_train,Y_batch_t_train,X_batch_t_test,Y_batch_t_test,df_c=batch_data(df_c,time_steps,seperate_rate)"
   ]
  },
  {
   "cell_type": "code",
   "execution_count": 269,
   "metadata": {},
   "outputs": [
    {
     "name": "stdout",
     "output_type": "stream",
     "text": [
      "(848, 60, 6) (363, 60, 6)\n"
     ]
    }
   ],
   "source": [
    "print(X_batch_t_train.shape,X_batch_t_test.shape)"
   ]
  },
  {
   "cell_type": "code",
   "execution_count": 270,
   "metadata": {
    "collapsed": true
   },
   "outputs": [],
   "source": [
    "BATCH_SIZE=121\n",
    "\n",
    "#train\n",
    "X_batch_t_train=X_batch_t_train[1:]\n",
    "Y_batch_t_train=Y_batch_t_train[1:]\n",
    "#test\n",
    "X_batch_t_test=X_batch_t_test[:]\n",
    "Y_batch_t_test=Y_batch_t_test[:]\n"
   ]
  },
  {
   "cell_type": "code",
   "execution_count": 271,
   "metadata": {},
   "outputs": [
    {
     "name": "stdout",
     "output_type": "stream",
     "text": [
      "0\n"
     ]
    }
   ],
   "source": [
    "X_batch_t_train_b,Y_batch_t_train_b,X_batch_t_test_b,Y_batch_t_test_b=g_b( X_batch_t_train,Y_batch_t_train,X_batch_t_test,Y_batch_t_test,BATCH_SIZE)"
   ]
  },
  {
   "cell_type": "code",
   "execution_count": 272,
   "metadata": {},
   "outputs": [
    {
     "data": {
      "text/plain": [
       "(3, 121, 60, 6)"
      ]
     },
     "execution_count": 272,
     "metadata": {},
     "output_type": "execute_result"
    }
   ],
   "source": [
    "X_batch_t_test_b.shape"
   ]
  },
  {
   "cell_type": "code",
   "execution_count": 273,
   "metadata": {
    "collapsed": true
   },
   "outputs": [],
   "source": [
    "INPUT_SIZE = 6\n",
    "CELL_SIZE = 30\n",
    "OUTPUT_SIZE=16\n",
    "LR = 0.0001"
   ]
  },
  {
   "cell_type": "code",
   "execution_count": 274,
   "metadata": {},
   "outputs": [
    {
     "name": "stderr",
     "output_type": "stream",
     "text": [
      "D:\\Anaconda3\\lib\\site-packages\\ipykernel_launcher.py:6: UserWarning: Update your `LSTM` call to the Keras 2 API: `LSTM(batch_input_shape=(121, 60, ..., return_sequences=False, stateful=True, units=128)`\n",
      "  \n"
     ]
    }
   ],
   "source": [
    "model =Sequential()\n",
    "model.add(LSTM(\n",
    "    batch_input_shape=(BATCH_SIZE,TIME_STEPS, INPUT_SIZE),\n",
    "    output_dim=128,\n",
    "    return_sequences=False,\n",
    "    stateful=True,\n",
    "))\n",
    "# model.add(Dense(batch_input_shape=BATCH_SIZE*TIME_STEPS,activation='tanh'))\n",
    "model.add(Dropout(0.3))\n",
    "model.add(Dense(64,activation='tanh'))\n",
    "model.add(Dense(32))\n",
    "model.add(Dense(8))\n",
    "model.add(Dense(1))\n",
    "adam = Adam(LR)\n",
    "model.compile(optimizer=adam,\n",
    "              loss='mse')"
   ]
  },
  {
   "cell_type": "code",
   "execution_count": 275,
   "metadata": {},
   "outputs": [
    {
     "data": {
      "text/plain": [
       "(121, 60, 6)"
      ]
     },
     "execution_count": 275,
     "metadata": {},
     "output_type": "execute_result"
    }
   ],
   "source": [
    "X_batch_t_train_b[0].shape"
   ]
  },
  {
   "cell_type": "code",
   "execution_count": 276,
   "metadata": {},
   "outputs": [
    {
     "name": "stdout",
     "output_type": "stream",
     "text": [
      "cl 0.23083894\n",
      "train cost:  0.12975346 epoch:  0\n",
      "cl 0.10011793\n",
      "train cost:  0.08274117 epoch:  100\n",
      "cl 0.096121006\n",
      "train cost:  0.08638385 epoch:  200\n",
      "cl 0.09423004\n",
      "train cost:  0.08236563 epoch:  300\n",
      "cl 0.09131989\n",
      "train cost:  0.08054859 epoch:  400\n",
      "cl 0.088199876\n",
      "train cost:  0.08647076 epoch:  500\n",
      "cl 0.080236204\n",
      "train cost:  0.076220915 epoch:  600\n",
      "cl 0.07017378\n",
      "train cost:  0.07273835 epoch:  700\n",
      "cl 0.06462924\n",
      "train cost:  0.0715997 epoch:  800\n",
      "cl 0.0604227\n",
      "train cost:  0.054194584 epoch:  900\n",
      "cl 0.052016225\n",
      "train cost:  0.04629784 epoch:  1000\n",
      "cl 0.0470699\n",
      "train cost:  0.058422234 epoch:  1100\n",
      "cl 0.04386965\n",
      "train cost:  0.03776918 epoch:  1200\n",
      "cl 0.040458072\n",
      "train cost:  0.037602257 epoch:  1300\n",
      "cl 0.036247034\n",
      "train cost:  0.03128776 epoch:  1400\n",
      "cl 0.033228584\n",
      "train cost:  0.028094195 epoch:  1500\n",
      "cl 0.030035788\n",
      "train cost:  0.028520063 epoch:  1600\n",
      "cl 0.029080292\n",
      "train cost:  0.027997157 epoch:  1700\n",
      "cl 0.027864516\n",
      "train cost:  0.02497738 epoch:  1800\n",
      "cl 0.02606971\n",
      "train cost:  0.023969397 epoch:  1900\n",
      "cl 0.025209427\n",
      "train cost:  0.023849066 epoch:  2000\n",
      "耗時:837.6098301410675s\n"
     ]
    }
   ],
   "source": [
    "epoch = 2001\n",
    "cl = []\n",
    "start_time = time.time()\n",
    "cl_chart=[]\n",
    "for epoch in range(epoch):\n",
    "    for i in range(X_batch_t_train_b.shape[0]):\n",
    "#         print(X.shape)\n",
    "        X = X_batch_t_train_b[i].reshape(BATCH_SIZE,TIME_STEPS,INPUT_SIZE)\n",
    "        Y = Y_batch_t_train_b[i].reshape(BATCH_SIZE,1)\n",
    "        cost = model.train_on_batch(X,Y)\n",
    "#         pred = model.predict_class(X,Y)\n",
    "#         pred = model.predict(X, 1)\n",
    "#         cl_chart.append(cost)\n",
    "#         if cost<20:\n",
    "#             cl.append(cost)\n",
    "        cl.append(cost)\n",
    "    if epoch % 100  == 0:\n",
    "        print('cl',np.average(cl))\n",
    "        \n",
    "        print('train cost: ', cost,'epoch: ',epoch)\n",
    "#         print('class',pred)\n",
    "        cl=[]\n",
    "t=(start_time-time.time())*-1\n",
    "print('耗時:'+str(t)+'s')"
   ]
  },
  {
   "cell_type": "code",
   "execution_count": 277,
   "metadata": {
    "collapsed": true
   },
   "outputs": [],
   "source": [
    "yhat=[]\n",
    "for i in range(len(X_batch_t_test_b)):\n",
    "    yhat.append(model.predict_on_batch((X_batch_t_test_b[i])))"
   ]
  },
  {
   "cell_type": "code",
   "execution_count": 278,
   "metadata": {
    "collapsed": true
   },
   "outputs": [],
   "source": [
    "shift_days=5"
   ]
  },
  {
   "cell_type": "code",
   "execution_count": 279,
   "metadata": {
    "collapsed": true
   },
   "outputs": [],
   "source": [
    "for i in range(-1,-1*(shift_days+1),-1):\n",
    "    Y_batch_t_test[i]=Y_batch_t_test[-1*(shift_days+1)]"
   ]
  },
  {
   "cell_type": "code",
   "execution_count": 280,
   "metadata": {},
   "outputs": [
    {
     "data": {
      "text/plain": [
       "0.09186711269056294"
      ]
     },
     "execution_count": 280,
     "metadata": {},
     "output_type": "execute_result"
    }
   ],
   "source": [
    "np.average((yhat-Y_batch_t_test)**2)"
   ]
  },
  {
   "cell_type": "code",
   "execution_count": null,
   "metadata": {
    "collapsed": true
   },
   "outputs": [],
   "source": []
  },
  {
   "cell_type": "code",
   "execution_count": 281,
   "metadata": {
    "collapsed": true
   },
   "outputs": [],
   "source": [
    "# cost = model.train_on_batch(X,Y)"
   ]
  },
  {
   "cell_type": "code",
   "execution_count": 282,
   "metadata": {},
   "outputs": [
    {
     "data": {
      "image/png": "[encoded data removed]",
      "text/plain": [
       "<Figure size 432x288 with 1 Axes>"
      ]
     },
     "metadata": {},
     "output_type": "display_data"
    }
   ],
   "source": [
    "yhat=np.array(yhat).flatten()\n",
    "plt.plot(yhat,color='blue')\n",
    "plt.show()"
   ]
  },
  {
   "cell_type": "code",
   "execution_count": 283,
   "metadata": {},
   "outputs": [
    {
     "data": {
      "text/plain": [
       "0.05076248029354953"
      ]
     },
     "execution_count": 283,
     "metadata": {},
     "output_type": "execute_result"
    }
   ],
   "source": [
    "np.average(Y_batch_t_test)"
   ]
  },
  {
   "cell_type": "code",
   "execution_count": 284,
   "metadata": {},
   "outputs": [
    {
     "data": {
      "text/plain": [
       "-0.011195272"
      ]
     },
     "execution_count": 284,
     "metadata": {},
     "output_type": "execute_result"
    }
   ],
   "source": [
    "np.average(yhat)"
   ]
  },
  {
   "cell_type": "code",
   "execution_count": 285,
   "metadata": {},
   "outputs": [
    {
     "data": {
      "image/png": "[encoded data removed]",
      "text/plain": [
       "<Figure size 432x288 with 1 Axes>"
      ]
     },
     "metadata": {},
     "output_type": "display_data"
    }
   ],
   "source": [
    "plt.plot(Y_batch_t_test,color='red')\n",
    "plt.show()"
   ]
  },
  {
   "cell_type": "code",
   "execution_count": 286,
   "metadata": {},
   "outputs": [
    {
     "data": {
      "image/png": "[encoded data removed]",
      "text/plain": [
       "<Figure size 432x288 with 1 Axes>"
      ]
     },
     "metadata": {},
     "output_type": "display_data"
    }
   ],
   "source": [
    "plt.plot(Y_batch_t_test,color='red')\n",
    "plt.plot(yhat,color='blue')\n",
    "plt.show()"
   ]
  },
  {
   "cell_type": "code",
   "execution_count": 288,
   "metadata": {},
   "outputs": [
    {
     "data": {
      "text/html": [
       "<div>\n",
       "<style>\n",
       "    .dataframe thead tr:only-child th {\n",
       "        text-align: right;\n",
       "    }\n",
       "\n",
       "    .dataframe thead th {\n",
       "        text-align: left;\n",
       "    }\n",
       "\n",
       "    .dataframe tbody tr th {\n",
       "        vertical-align: top;\n",
       "    }\n",
       "</style>\n",
       "<table border=\"1\" class=\"dataframe\">\n",
       "  <thead>\n",
       "    <tr style=\"text-align: right;\">\n",
       "      <th></th>\n",
       "      <th>三大法人買賣超股數</th>\n",
       "      <th>成交筆數</th>\n",
       "      <th>成交股數</th>\n",
       "      <th>收盤價</th>\n",
       "      <th>最低價</th>\n",
       "      <th>最高價</th>\n",
       "    </tr>\n",
       "  </thead>\n",
       "  <tbody>\n",
       "    <tr>\n",
       "      <th>283</th>\n",
       "      <td>0.094163</td>\n",
       "      <td>-0.278211</td>\n",
       "      <td>-0.430494</td>\n",
       "      <td>-0.855799</td>\n",
       "      <td>-0.866171</td>\n",
       "      <td>-0.852510</td>\n",
       "    </tr>\n",
       "    <tr>\n",
       "      <th>1139</th>\n",
       "      <td>0.092211</td>\n",
       "      <td>-0.607713</td>\n",
       "      <td>-0.686687</td>\n",
       "      <td>-0.850575</td>\n",
       "      <td>-0.854488</td>\n",
       "      <td>-0.851464</td>\n",
       "    </tr>\n",
       "    <tr>\n",
       "      <th>1996</th>\n",
       "      <td>-0.107258</td>\n",
       "      <td>-0.614603</td>\n",
       "      <td>-0.561953</td>\n",
       "      <td>-0.864159</td>\n",
       "      <td>-0.867233</td>\n",
       "      <td>-0.861925</td>\n",
       "    </tr>\n",
       "    <tr>\n",
       "      <th>2853</th>\n",
       "      <td>-0.229478</td>\n",
       "      <td>-0.469135</td>\n",
       "      <td>-0.434649</td>\n",
       "      <td>-0.885057</td>\n",
       "      <td>-0.885289</td>\n",
       "      <td>-0.877615</td>\n",
       "    </tr>\n",
       "    <tr>\n",
       "      <th>3710</th>\n",
       "      <td>-0.239216</td>\n",
       "      <td>-0.446818</td>\n",
       "      <td>-0.460624</td>\n",
       "      <td>-0.897597</td>\n",
       "      <td>-0.891662</td>\n",
       "      <td>-0.882845</td>\n",
       "    </tr>\n",
       "    <tr>\n",
       "      <th>4567</th>\n",
       "      <td>-0.119141</td>\n",
       "      <td>-0.495925</td>\n",
       "      <td>-0.517712</td>\n",
       "      <td>-0.895507</td>\n",
       "      <td>-0.901221</td>\n",
       "      <td>-0.891213</td>\n",
       "    </tr>\n",
       "    <tr>\n",
       "      <th>5425</th>\n",
       "      <td>0.034660</td>\n",
       "      <td>-0.664378</td>\n",
       "      <td>-0.674698</td>\n",
       "      <td>-0.888192</td>\n",
       "      <td>-0.892724</td>\n",
       "      <td>-0.885983</td>\n",
       "    </tr>\n",
       "    <tr>\n",
       "      <th>6284</th>\n",
       "      <td>-0.057491</td>\n",
       "      <td>-0.548991</td>\n",
       "      <td>-0.613044</td>\n",
       "      <td>-0.886102</td>\n",
       "      <td>-0.890600</td>\n",
       "      <td>-0.885983</td>\n",
       "    </tr>\n",
       "    <tr>\n",
       "      <th>7143</th>\n",
       "      <td>0.030769</td>\n",
       "      <td>-0.856537</td>\n",
       "      <td>-0.856380</td>\n",
       "      <td>-0.887147</td>\n",
       "      <td>-0.887414</td>\n",
       "      <td>-0.888075</td>\n",
       "    </tr>\n",
       "    <tr>\n",
       "      <th>8002</th>\n",
       "      <td>0.027407</td>\n",
       "      <td>-0.718473</td>\n",
       "      <td>-0.649092</td>\n",
       "      <td>-0.886102</td>\n",
       "      <td>-0.894849</td>\n",
       "      <td>-0.885983</td>\n",
       "    </tr>\n",
       "    <tr>\n",
       "      <th>8861</th>\n",
       "      <td>-0.257182</td>\n",
       "      <td>-0.279856</td>\n",
       "      <td>-0.215511</td>\n",
       "      <td>-0.908046</td>\n",
       "      <td>-0.902284</td>\n",
       "      <td>-0.898536</td>\n",
       "    </tr>\n",
       "    <tr>\n",
       "      <th>9720</th>\n",
       "      <td>0.093171</td>\n",
       "      <td>-0.598046</td>\n",
       "      <td>-0.612662</td>\n",
       "      <td>-0.890282</td>\n",
       "      <td>-0.894849</td>\n",
       "      <td>-0.892259</td>\n",
       "    </tr>\n",
       "    <tr>\n",
       "      <th>10579</th>\n",
       "      <td>-0.313359</td>\n",
       "      <td>-0.241239</td>\n",
       "      <td>-0.313510</td>\n",
       "      <td>-0.924765</td>\n",
       "      <td>-0.919278</td>\n",
       "      <td>-0.904812</td>\n",
       "    </tr>\n",
       "    <tr>\n",
       "      <th>11438</th>\n",
       "      <td>-0.072499</td>\n",
       "      <td>-0.567451</td>\n",
       "      <td>-0.628180</td>\n",
       "      <td>-0.917450</td>\n",
       "      <td>-0.927775</td>\n",
       "      <td>-0.916318</td>\n",
       "    </tr>\n",
       "    <tr>\n",
       "      <th>12297</th>\n",
       "      <td>-0.157609</td>\n",
       "      <td>-0.601388</td>\n",
       "      <td>-0.608668</td>\n",
       "      <td>-0.920585</td>\n",
       "      <td>-0.915029</td>\n",
       "      <td>-0.915272</td>\n",
       "    </tr>\n",
       "    <tr>\n",
       "      <th>13156</th>\n",
       "      <td>-0.419885</td>\n",
       "      <td>-0.110117</td>\n",
       "      <td>-0.242983</td>\n",
       "      <td>-0.952978</td>\n",
       "      <td>-0.949018</td>\n",
       "      <td>-0.933054</td>\n",
       "    </tr>\n",
       "    <tr>\n",
       "      <th>14015</th>\n",
       "      <td>-0.045869</td>\n",
       "      <td>-0.460805</td>\n",
       "      <td>-0.521201</td>\n",
       "      <td>-0.937304</td>\n",
       "      <td>-0.958577</td>\n",
       "      <td>-0.939331</td>\n",
       "    </tr>\n",
       "    <tr>\n",
       "      <th>14874</th>\n",
       "      <td>-0.077061</td>\n",
       "      <td>-0.530737</td>\n",
       "      <td>-0.679810</td>\n",
       "      <td>-0.943574</td>\n",
       "      <td>-0.946893</td>\n",
       "      <td>-0.940377</td>\n",
       "    </tr>\n",
       "    <tr>\n",
       "      <th>15733</th>\n",
       "      <td>0.007748</td>\n",
       "      <td>-0.670292</td>\n",
       "      <td>-0.656614</td>\n",
       "      <td>-0.926855</td>\n",
       "      <td>-0.940520</td>\n",
       "      <td>-0.927824</td>\n",
       "    </tr>\n",
       "    <tr>\n",
       "      <th>16592</th>\n",
       "      <td>-0.021972</td>\n",
       "      <td>-0.487235</td>\n",
       "      <td>-0.518857</td>\n",
       "      <td>-0.919540</td>\n",
       "      <td>-0.917153</td>\n",
       "      <td>-0.912134</td>\n",
       "    </tr>\n",
       "    <tr>\n",
       "      <th>17451</th>\n",
       "      <td>-0.132203</td>\n",
       "      <td>-0.255483</td>\n",
       "      <td>-0.087158</td>\n",
       "      <td>-0.925810</td>\n",
       "      <td>-0.935210</td>\n",
       "      <td>-0.924686</td>\n",
       "    </tr>\n",
       "    <tr>\n",
       "      <th>18310</th>\n",
       "      <td>0.062848</td>\n",
       "      <td>-0.185191</td>\n",
       "      <td>0.082383</td>\n",
       "      <td>-0.890282</td>\n",
       "      <td>-0.941583</td>\n",
       "      <td>-0.892259</td>\n",
       "    </tr>\n",
       "    <tr>\n",
       "      <th>19169</th>\n",
       "      <td>-0.271080</td>\n",
       "      <td>-0.025119</td>\n",
       "      <td>-0.197353</td>\n",
       "      <td>-0.944619</td>\n",
       "      <td>-0.939458</td>\n",
       "      <td>-0.927824</td>\n",
       "    </tr>\n",
       "    <tr>\n",
       "      <th>20028</th>\n",
       "      <td>-0.143083</td>\n",
       "      <td>-0.167708</td>\n",
       "      <td>-0.208792</td>\n",
       "      <td>-0.980146</td>\n",
       "      <td>-0.979819</td>\n",
       "      <td>-0.975941</td>\n",
       "    </tr>\n",
       "    <tr>\n",
       "      <th>20887</th>\n",
       "      <td>-0.059424</td>\n",
       "      <td>-0.509808</td>\n",
       "      <td>-0.563242</td>\n",
       "      <td>-0.962382</td>\n",
       "      <td>-0.968136</td>\n",
       "      <td>-0.964435</td>\n",
       "    </tr>\n",
       "    <tr>\n",
       "      <th>21746</th>\n",
       "      <td>-0.162549</td>\n",
       "      <td>-0.627767</td>\n",
       "      <td>-0.611945</td>\n",
       "      <td>-0.966562</td>\n",
       "      <td>-0.964950</td>\n",
       "      <td>-0.960251</td>\n",
       "    </tr>\n",
       "    <tr>\n",
       "      <th>22606</th>\n",
       "      <td>-0.156944</td>\n",
       "      <td>-0.427227</td>\n",
       "      <td>-0.583573</td>\n",
       "      <td>-0.965517</td>\n",
       "      <td>-0.970260</td>\n",
       "      <td>-0.959205</td>\n",
       "    </tr>\n",
       "    <tr>\n",
       "      <th>23466</th>\n",
       "      <td>0.101238</td>\n",
       "      <td>-0.462142</td>\n",
       "      <td>-0.526043</td>\n",
       "      <td>-0.939394</td>\n",
       "      <td>-0.942645</td>\n",
       "      <td>-0.940377</td>\n",
       "    </tr>\n",
       "    <tr>\n",
       "      <th>24326</th>\n",
       "      <td>-0.049751</td>\n",
       "      <td>-0.524515</td>\n",
       "      <td>-0.554472</td>\n",
       "      <td>-0.949843</td>\n",
       "      <td>-0.954328</td>\n",
       "      <td>-0.947699</td>\n",
       "    </tr>\n",
       "    <tr>\n",
       "      <th>25186</th>\n",
       "      <td>0.017625</td>\n",
       "      <td>-0.683198</td>\n",
       "      <td>-0.629808</td>\n",
       "      <td>-0.943574</td>\n",
       "      <td>-0.943707</td>\n",
       "      <td>-0.937238</td>\n",
       "    </tr>\n",
       "    <tr>\n",
       "      <th>...</th>\n",
       "      <td>...</td>\n",
       "      <td>...</td>\n",
       "      <td>...</td>\n",
       "      <td>...</td>\n",
       "      <td>...</td>\n",
       "      <td>...</td>\n",
       "    </tr>\n",
       "    <tr>\n",
       "      <th>1295774</th>\n",
       "      <td>0.073565</td>\n",
       "      <td>-0.430467</td>\n",
       "      <td>-0.642020</td>\n",
       "      <td>0.921630</td>\n",
       "      <td>0.920340</td>\n",
       "      <td>0.952929</td>\n",
       "    </tr>\n",
       "    <tr>\n",
       "      <th>1296815</th>\n",
       "      <td>0.005604</td>\n",
       "      <td>-0.390564</td>\n",
       "      <td>-0.565813</td>\n",
       "      <td>0.864159</td>\n",
       "      <td>0.893787</td>\n",
       "      <td>0.911088</td>\n",
       "    </tr>\n",
       "    <tr>\n",
       "      <th>1297857</th>\n",
       "      <td>0.058320</td>\n",
       "      <td>-0.361460</td>\n",
       "      <td>-0.460981</td>\n",
       "      <td>0.885057</td>\n",
       "      <td>0.888476</td>\n",
       "      <td>0.911088</td>\n",
       "    </tr>\n",
       "    <tr>\n",
       "      <th>1298899</th>\n",
       "      <td>-0.031756</td>\n",
       "      <td>-0.359146</td>\n",
       "      <td>-0.647086</td>\n",
       "      <td>0.932079</td>\n",
       "      <td>0.941583</td>\n",
       "      <td>0.947699</td>\n",
       "    </tr>\n",
       "    <tr>\n",
       "      <th>1300983</th>\n",
       "      <td>-0.219987</td>\n",
       "      <td>-0.188893</td>\n",
       "      <td>-0.451661</td>\n",
       "      <td>0.864159</td>\n",
       "      <td>0.872544</td>\n",
       "      <td>0.879707</td>\n",
       "    </tr>\n",
       "    <tr>\n",
       "      <th>1302026</th>\n",
       "      <td>-0.394434</td>\n",
       "      <td>0.764751</td>\n",
       "      <td>0.271087</td>\n",
       "      <td>0.717868</td>\n",
       "      <td>0.697292</td>\n",
       "      <td>0.764644</td>\n",
       "    </tr>\n",
       "    <tr>\n",
       "      <th>1303069</th>\n",
       "      <td>-0.269131</td>\n",
       "      <td>0.122355</td>\n",
       "      <td>-0.005421</td>\n",
       "      <td>0.728318</td>\n",
       "      <td>0.755709</td>\n",
       "      <td>0.785565</td>\n",
       "    </tr>\n",
       "    <tr>\n",
       "      <th>1304114</th>\n",
       "      <td>-0.075795</td>\n",
       "      <td>-0.530068</td>\n",
       "      <td>-0.643439</td>\n",
       "      <td>0.712644</td>\n",
       "      <td>0.739777</td>\n",
       "      <td>0.748954</td>\n",
       "    </tr>\n",
       "    <tr>\n",
       "      <th>1305159</th>\n",
       "      <td>-0.292221</td>\n",
       "      <td>-0.042859</td>\n",
       "      <td>-0.209659</td>\n",
       "      <td>0.649948</td>\n",
       "      <td>0.638874</td>\n",
       "      <td>0.654812</td>\n",
       "    </tr>\n",
       "    <tr>\n",
       "      <th>1306203</th>\n",
       "      <td>-0.052360</td>\n",
       "      <td>-0.500399</td>\n",
       "      <td>-0.497067</td>\n",
       "      <td>0.691745</td>\n",
       "      <td>0.707913</td>\n",
       "      <td>0.701883</td>\n",
       "    </tr>\n",
       "    <tr>\n",
       "      <th>1307247</th>\n",
       "      <td>0.082338</td>\n",
       "      <td>0.047795</td>\n",
       "      <td>-0.079114</td>\n",
       "      <td>0.754441</td>\n",
       "      <td>0.782262</td>\n",
       "      <td>0.775105</td>\n",
       "    </tr>\n",
       "    <tr>\n",
       "      <th>1308291</th>\n",
       "      <td>0.007628</td>\n",
       "      <td>-0.540506</td>\n",
       "      <td>-0.464911</td>\n",
       "      <td>0.723093</td>\n",
       "      <td>0.750398</td>\n",
       "      <td>0.769874</td>\n",
       "    </tr>\n",
       "    <tr>\n",
       "      <th>1309336</th>\n",
       "      <td>0.109972</td>\n",
       "      <td>-0.535004</td>\n",
       "      <td>-0.695957</td>\n",
       "      <td>0.780564</td>\n",
       "      <td>0.771641</td>\n",
       "      <td>0.780335</td>\n",
       "    </tr>\n",
       "    <tr>\n",
       "      <th>1310381</th>\n",
       "      <td>0.130012</td>\n",
       "      <td>-0.412264</td>\n",
       "      <td>-0.581353</td>\n",
       "      <td>0.796238</td>\n",
       "      <td>0.814126</td>\n",
       "      <td>0.806485</td>\n",
       "    </tr>\n",
       "    <tr>\n",
       "      <th>1311426</th>\n",
       "      <td>0.013013</td>\n",
       "      <td>-0.497468</td>\n",
       "      <td>-0.474822</td>\n",
       "      <td>0.791014</td>\n",
       "      <td>0.824748</td>\n",
       "      <td>0.837866</td>\n",
       "    </tr>\n",
       "    <tr>\n",
       "      <th>1312471</th>\n",
       "      <td>0.034552</td>\n",
       "      <td>-0.462450</td>\n",
       "      <td>-0.485448</td>\n",
       "      <td>0.759666</td>\n",
       "      <td>0.782262</td>\n",
       "      <td>0.780335</td>\n",
       "    </tr>\n",
       "    <tr>\n",
       "      <th>1313516</th>\n",
       "      <td>-0.155203</td>\n",
       "      <td>-0.521532</td>\n",
       "      <td>-0.592297</td>\n",
       "      <td>0.728318</td>\n",
       "      <td>0.745088</td>\n",
       "      <td>0.738494</td>\n",
       "    </tr>\n",
       "    <tr>\n",
       "      <th>1314561</th>\n",
       "      <td>0.005219</td>\n",
       "      <td>-0.579072</td>\n",
       "      <td>-0.691561</td>\n",
       "      <td>0.743992</td>\n",
       "      <td>0.766330</td>\n",
       "      <td>0.759414</td>\n",
       "    </tr>\n",
       "    <tr>\n",
       "      <th>1315606</th>\n",
       "      <td>0.181522</td>\n",
       "      <td>-0.339658</td>\n",
       "      <td>-0.571615</td>\n",
       "      <td>0.832811</td>\n",
       "      <td>0.819437</td>\n",
       "      <td>0.832636</td>\n",
       "    </tr>\n",
       "    <tr>\n",
       "      <th>1316651</th>\n",
       "      <td>-0.018755</td>\n",
       "      <td>-0.517367</td>\n",
       "      <td>-0.653443</td>\n",
       "      <td>0.801463</td>\n",
       "      <td>0.824748</td>\n",
       "      <td>0.816946</td>\n",
       "    </tr>\n",
       "    <tr>\n",
       "      <th>1317696</th>\n",
       "      <td>0.048563</td>\n",
       "      <td>-0.604988</td>\n",
       "      <td>-0.775107</td>\n",
       "      <td>0.827586</td>\n",
       "      <td>0.856612</td>\n",
       "      <td>0.848326</td>\n",
       "    </tr>\n",
       "    <tr>\n",
       "      <th>1318741</th>\n",
       "      <td>-0.035941</td>\n",
       "      <td>-0.695848</td>\n",
       "      <td>-0.747125</td>\n",
       "      <td>0.838036</td>\n",
       "      <td>0.851301</td>\n",
       "      <td>0.843096</td>\n",
       "    </tr>\n",
       "    <tr>\n",
       "      <th>1319786</th>\n",
       "      <td>0.061742</td>\n",
       "      <td>-0.515876</td>\n",
       "      <td>-0.719491</td>\n",
       "      <td>0.874608</td>\n",
       "      <td>0.883165</td>\n",
       "      <td>0.884937</td>\n",
       "    </tr>\n",
       "    <tr>\n",
       "      <th>1320831</th>\n",
       "      <td>0.153577</td>\n",
       "      <td>-0.456743</td>\n",
       "      <td>-0.605084</td>\n",
       "      <td>0.926855</td>\n",
       "      <td>0.920340</td>\n",
       "      <td>0.926778</td>\n",
       "    </tr>\n",
       "    <tr>\n",
       "      <th>1321876</th>\n",
       "      <td>-0.051941</td>\n",
       "      <td>-0.620363</td>\n",
       "      <td>-0.730050</td>\n",
       "      <td>0.905956</td>\n",
       "      <td>0.925651</td>\n",
       "      <td>0.911088</td>\n",
       "    </tr>\n",
       "    <tr>\n",
       "      <th>1322921</th>\n",
       "      <td>-0.006536</td>\n",
       "      <td>-0.752667</td>\n",
       "      <td>-0.790702</td>\n",
       "      <td>0.885057</td>\n",
       "      <td>0.920340</td>\n",
       "      <td>0.916318</td>\n",
       "    </tr>\n",
       "    <tr>\n",
       "      <th>1326056</th>\n",
       "      <td>0.063071</td>\n",
       "      <td>-0.578403</td>\n",
       "      <td>-0.754015</td>\n",
       "      <td>0.864159</td>\n",
       "      <td>0.883165</td>\n",
       "      <td>0.874477</td>\n",
       "    </tr>\n",
       "    <tr>\n",
       "      <th>1327101</th>\n",
       "      <td>0.017713</td>\n",
       "      <td>-0.463170</td>\n",
       "      <td>-0.621153</td>\n",
       "      <td>0.858934</td>\n",
       "      <td>0.877854</td>\n",
       "      <td>0.884937</td>\n",
       "    </tr>\n",
       "    <tr>\n",
       "      <th>1328146</th>\n",
       "      <td>0.035066</td>\n",
       "      <td>-0.519733</td>\n",
       "      <td>-0.695770</td>\n",
       "      <td>0.848485</td>\n",
       "      <td>0.861922</td>\n",
       "      <td>0.879707</td>\n",
       "    </tr>\n",
       "    <tr>\n",
       "      <th>1329191</th>\n",
       "      <td>-0.011561</td>\n",
       "      <td>-0.003574</td>\n",
       "      <td>-0.371513</td>\n",
       "      <td>0.780564</td>\n",
       "      <td>0.803505</td>\n",
       "      <td>0.801255</td>\n",
       "    </tr>\n",
       "  </tbody>\n",
       "</table>\n",
       "<p>1271 rows × 6 columns</p>\n",
       "</div>"
      ],
      "text/plain": [
       "         三大法人買賣超股數      成交筆數      成交股數       收盤價       最低價       最高價\n",
       "283       0.094163 -0.278211 -0.430494 -0.855799 -0.866171 -0.852510\n",
       "1139      0.092211 -0.607713 -0.686687 -0.850575 -0.854488 -0.851464\n",
       "1996     -0.107258 -0.614603 -0.561953 -0.864159 -0.867233 -0.861925\n",
       "2853     -0.229478 -0.469135 -0.434649 -0.885057 -0.885289 -0.877615\n",
       "3710     -0.239216 -0.446818 -0.460624 -0.897597 -0.891662 -0.882845\n",
       "4567     -0.119141 -0.495925 -0.517712 -0.895507 -0.901221 -0.891213\n",
       "5425      0.034660 -0.664378 -0.674698 -0.888192 -0.892724 -0.885983\n",
       "6284     -0.057491 -0.548991 -0.613044 -0.886102 -0.890600 -0.885983\n",
       "7143      0.030769 -0.856537 -0.856380 -0.887147 -0.887414 -0.888075\n",
       "8002      0.027407 -0.718473 -0.649092 -0.886102 -0.894849 -0.885983\n",
       "8861     -0.257182 -0.279856 -0.215511 -0.908046 -0.902284 -0.898536\n",
       "9720      0.093171 -0.598046 -0.612662 -0.890282 -0.894849 -0.892259\n",
       "10579    -0.313359 -0.241239 -0.313510 -0.924765 -0.919278 -0.904812\n",
       "11438    -0.072499 -0.567451 -0.628180 -0.917450 -0.927775 -0.916318\n",
       "12297    -0.157609 -0.601388 -0.608668 -0.920585 -0.915029 -0.915272\n",
       "13156    -0.419885 -0.110117 -0.242983 -0.952978 -0.949018 -0.933054\n",
       "14015    -0.045869 -0.460805 -0.521201 -0.937304 -0.958577 -0.939331\n",
       "14874    -0.077061 -0.530737 -0.679810 -0.943574 -0.946893 -0.940377\n",
       "15733     0.007748 -0.670292 -0.656614 -0.926855 -0.940520 -0.927824\n",
       "16592    -0.021972 -0.487235 -0.518857 -0.919540 -0.917153 -0.912134\n",
       "17451    -0.132203 -0.255483 -0.087158 -0.925810 -0.935210 -0.924686\n",
       "18310     0.062848 -0.185191  0.082383 -0.890282 -0.941583 -0.892259\n",
       "19169    -0.271080 -0.025119 -0.197353 -0.944619 -0.939458 -0.927824\n",
       "20028    -0.143083 -0.167708 -0.208792 -0.980146 -0.979819 -0.975941\n",
       "20887    -0.059424 -0.509808 -0.563242 -0.962382 -0.968136 -0.964435\n",
       "21746    -0.162549 -0.627767 -0.611945 -0.966562 -0.964950 -0.960251\n",
       "22606    -0.156944 -0.427227 -0.583573 -0.965517 -0.970260 -0.959205\n",
       "23466     0.101238 -0.462142 -0.526043 -0.939394 -0.942645 -0.940377\n",
       "24326    -0.049751 -0.524515 -0.554472 -0.949843 -0.954328 -0.947699\n",
       "25186     0.017625 -0.683198 -0.629808 -0.943574 -0.943707 -0.937238\n",
       "...            ...       ...       ...       ...       ...       ...\n",
       "1295774   0.073565 -0.430467 -0.642020  0.921630  0.920340  0.952929\n",
       "1296815   0.005604 -0.390564 -0.565813  0.864159  0.893787  0.911088\n",
       "1297857   0.058320 -0.361460 -0.460981  0.885057  0.888476  0.911088\n",
       "1298899  -0.031756 -0.359146 -0.647086  0.932079  0.941583  0.947699\n",
       "1300983  -0.219987 -0.188893 -0.451661  0.864159  0.872544  0.879707\n",
       "1302026  -0.394434  0.764751  0.271087  0.717868  0.697292  0.764644\n",
       "1303069  -0.269131  0.122355 -0.005421  0.728318  0.755709  0.785565\n",
       "1304114  -0.075795 -0.530068 -0.643439  0.712644  0.739777  0.748954\n",
       "1305159  -0.292221 -0.042859 -0.209659  0.649948  0.638874  0.654812\n",
       "1306203  -0.052360 -0.500399 -0.497067  0.691745  0.707913  0.701883\n",
       "1307247   0.082338  0.047795 -0.079114  0.754441  0.782262  0.775105\n",
       "1308291   0.007628 -0.540506 -0.464911  0.723093  0.750398  0.769874\n",
       "1309336   0.109972 -0.535004 -0.695957  0.780564  0.771641  0.780335\n",
       "1310381   0.130012 -0.412264 -0.581353  0.796238  0.814126  0.806485\n",
       "1311426   0.013013 -0.497468 -0.474822  0.791014  0.824748  0.837866\n",
       "1312471   0.034552 -0.462450 -0.485448  0.759666  0.782262  0.780335\n",
       "1313516  -0.155203 -0.521532 -0.592297  0.728318  0.745088  0.738494\n",
       "1314561   0.005219 -0.579072 -0.691561  0.743992  0.766330  0.759414\n",
       "1315606   0.181522 -0.339658 -0.571615  0.832811  0.819437  0.832636\n",
       "1316651  -0.018755 -0.517367 -0.653443  0.801463  0.824748  0.816946\n",
       "1317696   0.048563 -0.604988 -0.775107  0.827586  0.856612  0.848326\n",
       "1318741  -0.035941 -0.695848 -0.747125  0.838036  0.851301  0.843096\n",
       "1319786   0.061742 -0.515876 -0.719491  0.874608  0.883165  0.884937\n",
       "1320831   0.153577 -0.456743 -0.605084  0.926855  0.920340  0.926778\n",
       "1321876  -0.051941 -0.620363 -0.730050  0.905956  0.925651  0.911088\n",
       "1322921  -0.006536 -0.752667 -0.790702  0.885057  0.920340  0.916318\n",
       "1326056   0.063071 -0.578403 -0.754015  0.864159  0.883165  0.874477\n",
       "1327101   0.017713 -0.463170 -0.621153  0.858934  0.877854  0.884937\n",
       "1328146   0.035066 -0.519733 -0.695770  0.848485  0.861922  0.879707\n",
       "1329191  -0.011561 -0.003574 -0.371513  0.780564  0.803505  0.801255\n",
       "\n",
       "[1271 rows x 6 columns]"
      ]
     },
     "execution_count": 288,
     "metadata": {},
     "output_type": "execute_result"
    }
   ],
   "source": []
  },
  {
   "cell_type": "code",
   "execution_count": 287,
   "metadata": {},
   "outputs": [
    {
     "ename": "TypeError",
     "evalue": "cannot do slice indexing on <class 'pandas.core.indexes.numeric.Int64Index'> with these indexers [[-5.60403503e-02  1.09050339e-02  7.36508742e-02  1.10774979e-01\n  1.20351538e-01  1.63164034e-01  1.26530856e-01  7.72809833e-02\n  5.02070226e-02  5.20805530e-02  3.99975665e-02  4.86463197e-02\n -6.93978295e-02 -9.28409174e-02 -5.08234911e-02 -4.94147651e-02\n -4.06077467e-02  1.18105980e-02  8.03032070e-02  1.16376288e-01\n  1.41661853e-01  1.75924763e-01  1.31361544e-01  1.37285352e-01\n  1.52273566e-01  1.21913671e-01  7.31807947e-02  1.27867283e-02\n -7.81095307e-03 -9.52659100e-02 -1.35514140e-01 -1.46771461e-01\n -1.78624183e-01 -2.56878793e-01 -5.17239906e-02  1.38507904e-02\n  1.30055130e-01  8.03245753e-02  8.47495049e-02  1.26219362e-01\n  4.17332314e-02  8.66234601e-02  1.72869921e-01  2.37144545e-01\n  2.68667191e-01  2.89072424e-01  3.02568585e-01  3.13243628e-01\n  3.08587492e-01  2.95712382e-01  2.13204414e-01  8.04574639e-02\n -4.21627499e-02 -9.60533842e-02 -9.36901122e-02 -1.67780325e-01\n -1.69240594e-01 -9.74206552e-02 -5.60087822e-02 -5.14275022e-02\n -6.99442253e-02 -1.21787503e-01 -1.07285157e-01 -1.04960777e-01\n -9.26963091e-02 -4.62296791e-02 -3.15293632e-02 -5.40967546e-02\n -5.22359945e-02 -5.48880957e-02 -4.31717597e-02 -3.02996673e-02\n -3.55529375e-02 -4.81107421e-02 -5.15475310e-02 -4.54762392e-02\n -8.80323127e-02 -7.44195208e-02 -1.04369864e-01 -1.07520595e-01\n -9.12718773e-02 -7.26301298e-02 -6.23634942e-02 -5.10876216e-02\n -5.36439233e-02 -6.32235706e-02 -6.41221702e-02 -6.56958148e-02\n -6.76501542e-02 -6.56247810e-02 -1.06117904e-01 -9.85746980e-02\n -7.68422037e-02 -7.43342713e-02 -7.06351995e-02 -6.96593374e-02\n -7.96808675e-02 -9.04481634e-02 -9.09087807e-02 -9.37567800e-02\n -9.23624262e-02 -9.13890898e-02 -1.06198512e-01 -1.17014199e-01\n -1.18755385e-01 -1.02031931e-01 -8.45803991e-02 -6.68232590e-02\n -6.11410327e-02 -6.39090389e-02 -6.64270073e-02 -7.07312748e-02\n -8.45094547e-02 -8.31374153e-02 -1.08226597e-01 -1.40234768e-01\n -1.35691375e-01 -1.37556404e-01 -1.17853276e-01 -1.02959119e-01\n -9.60416198e-02 -1.09135866e-01 -1.43826336e-01 -1.58710256e-01\n -1.71888605e-01 -1.75090328e-01 -1.74054399e-01 -1.70874581e-01\n -1.63602397e-01 -1.49039254e-01 -1.35557815e-01 -1.27894044e-01\n -1.20912552e-01 -9.47065279e-02 -6.82996511e-02 -3.90491076e-02\n -2.87683345e-02 -2.14410760e-02  4.49215062e-04  1.09929489e-02\n  1.61980428e-02  1.48743289e-02 -7.09342770e-04 -2.56281532e-02\n -6.25174046e-02 -8.71300101e-02 -9.72325057e-02 -1.01774395e-01\n -1.18726894e-01 -1.32573932e-01 -1.34130150e-01 -1.36239141e-01\n -1.36473596e-01 -1.24439850e-01 -9.67111588e-02 -6.78874850e-02\n -5.25175966e-02 -2.04944350e-02  1.59067623e-02  3.31937112e-02\n  6.04091398e-02  7.96330199e-02  8.09589326e-02  6.37306720e-02\n  3.14011686e-02 -3.34944110e-03 -4.70290445e-02 -8.81167576e-02\n -1.32820636e-01 -1.64952695e-01 -1.89490467e-01 -1.98840022e-01\n -1.93533003e-01 -1.81573212e-01 -1.62114650e-01 -1.36118680e-01\n -1.03201784e-01 -6.12102859e-02 -1.73211955e-02  2.52909027e-02\n  6.52451813e-02  7.84561634e-02  9.97536108e-02  1.07381746e-01\n  1.00099608e-01  8.52133930e-02  6.52831793e-02  4.46847938e-02\n  1.23026939e-02 -5.32351322e-02 -7.58517087e-02 -8.25399905e-02\n -6.68270737e-02 -5.50942756e-02 -3.80947180e-02 -2.46629901e-02\n -1.46342991e-02  5.67135680e-03  7.03478325e-03 -1.05905347e-04\n -6.56027626e-03  3.66037060e-03  6.18404616e-03  1.45741450e-02\n  1.45263569e-02  1.96213461e-02  2.89390795e-02  3.06952260e-02\n  4.05254476e-02  3.76435928e-02  3.16268764e-02  2.33867429e-02\n  1.95491426e-02  1.07558640e-02  6.82425965e-03  2.32325960e-03\n  4.22229338e-03  1.34556266e-02  2.55285613e-02  4.01457883e-02\n  4.06588353e-02  4.89627160e-02  5.28443716e-02  5.72526343e-02\n  4.75063063e-02  4.13202755e-02  4.09545042e-02  2.72279344e-02\n  2.10750736e-02  3.12161632e-04  3.97517253e-03  1.56004699e-02\n  1.67675726e-02  2.72410400e-02  2.95021869e-02  3.18281315e-02\n  3.58382873e-02  3.64974625e-02  3.67743783e-02  3.51504795e-02\n  2.97894515e-02  2.74944864e-02  1.95894502e-02  8.63752980e-03\n  2.60765571e-03 -1.84539240e-03 -2.59185117e-03 -1.02973264e-03\n  5.22957463e-03  6.09723944e-03  1.02902623e-02  1.44089507e-02\n  1.07664885e-02  9.59783513e-03  7.72379059e-03  6.99963886e-03\n  3.38618178e-03  7.86079187e-03  7.93996174e-03  1.86395682e-02\n  2.07967199e-02  1.36423307e-02  1.23596760e-02  1.49091799e-03\n -7.19425362e-03 -1.29515408e-02 -1.42331598e-02 -7.59423058e-03\n  3.36935837e-03  1.83624737e-02  3.80775891e-02  5.97754084e-02\n  8.36721286e-02  1.11490622e-01  1.28525287e-01  1.42295718e-01\n  1.55301437e-01  1.64599910e-01  1.71266809e-01  1.76768899e-01\n  1.74977154e-01  1.68157056e-01  1.62611201e-01  1.55777603e-01\n  1.48914963e-01  1.29699677e-01  1.22924730e-01  1.15787894e-01\n  1.03466563e-01  9.27609801e-02  8.37703720e-02  7.97703862e-02\n  8.13329890e-02  6.01710863e-02  3.95066105e-02  4.51977961e-02\n  1.45287858e-02  1.66232027e-02  3.04019712e-02  2.97342725e-02\n  2.92952172e-02  2.68646441e-02  3.43929566e-02  5.00254445e-02\n  6.30564839e-02  7.69817084e-02  8.24204385e-02  8.65042582e-02\n  8.50950405e-02  7.80634582e-02  8.19302946e-02  8.59551430e-02\n  9.38180462e-02  9.75424498e-02  9.67046320e-02  9.54205841e-02\n  9.21017528e-02  8.36140737e-02  6.73868954e-02  5.19628115e-02\n  3.86846773e-02  2.67656110e-02  1.09333815e-02 -9.39558260e-04\n -3.45650129e-04  8.08746833e-03  2.32458971e-02  3.79383229e-02\n  4.19768207e-02  3.72197889e-02  2.86314227e-02  2.97488235e-02\n  2.25889646e-02  2.39073299e-02  3.31510119e-02  4.15010937e-02\n  5.42369597e-02  6.68666288e-02  6.82450309e-02  3.46296057e-02\n  2.98807099e-02  5.15245833e-02  4.74189408e-02  7.16296881e-02\n  8.63682479e-02  1.00626335e-01  1.16332918e-01  1.27614468e-01\n  1.34497553e-01  1.40281036e-01  1.40914470e-01  1.55474514e-01\n  1.72159865e-01  1.81567788e-01  1.97419360e-01  2.16455966e-01\n  2.36559451e-01  2.55942017e-01  2.69814789e-01  2.88677305e-01\n  3.03574502e-01  3.08895677e-01  3.08133125e-01]] of <class 'numpy.ndarray'>",
     "output_type": "error",
     "traceback": [
      "\u001b[1;31m---------------------------------------------------------------------------\u001b[0m",
      "\u001b[1;31mTypeError\u001b[0m                                 Traceback (most recent call last)",
      "\u001b[1;32m<ipython-input-287-9831bd00bbf2>\u001b[0m in \u001b[0;36m<module>\u001b[1;34m()\u001b[0m\n\u001b[1;32m----> 1\u001b[1;33m \u001b[0mdf_c_p\u001b[0m \u001b[1;33m=\u001b[0m \u001b[0mdf_c\u001b[0m\u001b[1;33m[\u001b[0m\u001b[1;33m-\u001b[0m\u001b[1;33m(\u001b[0m\u001b[0myhat\u001b[0m\u001b[1;33m)\u001b[0m\u001b[1;33m:\u001b[0m\u001b[1;33m]\u001b[0m\u001b[1;33m\u001b[0m\u001b[0m\n\u001b[0m\u001b[0;32m      2\u001b[0m \u001b[0mdf_c_p\u001b[0m\u001b[1;33m[\u001b[0m\u001b[1;34m's'\u001b[0m\u001b[1;33m]\u001b[0m\u001b[1;33m=\u001b[0m\u001b[0myhat\u001b[0m\u001b[1;33m\u001b[0m\u001b[0m\n\u001b[0;32m      3\u001b[0m \u001b[0mprint\u001b[0m\u001b[1;33m(\u001b[0m\u001b[0mdf_c_p\u001b[0m\u001b[1;33m[\u001b[0m\u001b[1;34m's'\u001b[0m\u001b[1;33m]\u001b[0m\u001b[1;33m.\u001b[0m\u001b[0mdescribe\u001b[0m\u001b[1;33m(\u001b[0m\u001b[1;33m)\u001b[0m\u001b[1;33m)\u001b[0m\u001b[1;33m\u001b[0m\u001b[0m\n\u001b[0;32m      4\u001b[0m \u001b[0mplt\u001b[0m\u001b[1;33m.\u001b[0m\u001b[0mhist\u001b[0m\u001b[1;33m(\u001b[0m\u001b[0mdf_c_p\u001b[0m\u001b[1;33m[\u001b[0m\u001b[1;34m's'\u001b[0m\u001b[1;33m]\u001b[0m\u001b[1;33m)\u001b[0m\u001b[1;33m\u001b[0m\u001b[0m\n\u001b[0;32m      5\u001b[0m \u001b[0mplt\u001b[0m\u001b[1;33m.\u001b[0m\u001b[0mshow\u001b[0m\u001b[1;33m(\u001b[0m\u001b[1;33m)\u001b[0m\u001b[1;33m\u001b[0m\u001b[0m\n",
      "\u001b[1;32mD:\\Anaconda3\\lib\\site-packages\\pandas\\core\\frame.py\u001b[0m in \u001b[0;36m__getitem__\u001b[1;34m(self, key)\u001b[0m\n\u001b[0;32m   1950\u001b[0m \u001b[1;33m\u001b[0m\u001b[0m\n\u001b[0;32m   1951\u001b[0m         \u001b[1;31m# see if we can slice the rows\u001b[0m\u001b[1;33m\u001b[0m\u001b[1;33m\u001b[0m\u001b[0m\n\u001b[1;32m-> 1952\u001b[1;33m         \u001b[0mindexer\u001b[0m \u001b[1;33m=\u001b[0m \u001b[0mconvert_to_index_sliceable\u001b[0m\u001b[1;33m(\u001b[0m\u001b[0mself\u001b[0m\u001b[1;33m,\u001b[0m \u001b[0mkey\u001b[0m\u001b[1;33m)\u001b[0m\u001b[1;33m\u001b[0m\u001b[0m\n\u001b[0m\u001b[0;32m   1953\u001b[0m         \u001b[1;32mif\u001b[0m \u001b[0mindexer\u001b[0m \u001b[1;32mis\u001b[0m \u001b[1;32mnot\u001b[0m \u001b[1;32mNone\u001b[0m\u001b[1;33m:\u001b[0m\u001b[1;33m\u001b[0m\u001b[0m\n\u001b[0;32m   1954\u001b[0m             \u001b[1;32mreturn\u001b[0m \u001b[0mself\u001b[0m\u001b[1;33m.\u001b[0m\u001b[0m_getitem_slice\u001b[0m\u001b[1;33m(\u001b[0m\u001b[0mindexer\u001b[0m\u001b[1;33m)\u001b[0m\u001b[1;33m\u001b[0m\u001b[0m\n",
      "\u001b[1;32mD:\\Anaconda3\\lib\\site-packages\\pandas\\core\\indexing.py\u001b[0m in \u001b[0;36mconvert_to_index_sliceable\u001b[1;34m(obj, key)\u001b[0m\n\u001b[0;32m   1894\u001b[0m     \u001b[0midx\u001b[0m \u001b[1;33m=\u001b[0m \u001b[0mobj\u001b[0m\u001b[1;33m.\u001b[0m\u001b[0mindex\u001b[0m\u001b[1;33m\u001b[0m\u001b[0m\n\u001b[0;32m   1895\u001b[0m     \u001b[1;32mif\u001b[0m \u001b[0misinstance\u001b[0m\u001b[1;33m(\u001b[0m\u001b[0mkey\u001b[0m\u001b[1;33m,\u001b[0m \u001b[0mslice\u001b[0m\u001b[1;33m)\u001b[0m\u001b[1;33m:\u001b[0m\u001b[1;33m\u001b[0m\u001b[0m\n\u001b[1;32m-> 1896\u001b[1;33m         \u001b[1;32mreturn\u001b[0m \u001b[0midx\u001b[0m\u001b[1;33m.\u001b[0m\u001b[0m_convert_slice_indexer\u001b[0m\u001b[1;33m(\u001b[0m\u001b[0mkey\u001b[0m\u001b[1;33m,\u001b[0m \u001b[0mkind\u001b[0m\u001b[1;33m=\u001b[0m\u001b[1;34m'getitem'\u001b[0m\u001b[1;33m)\u001b[0m\u001b[1;33m\u001b[0m\u001b[0m\n\u001b[0m\u001b[0;32m   1897\u001b[0m \u001b[1;33m\u001b[0m\u001b[0m\n\u001b[0;32m   1898\u001b[0m     \u001b[1;32melif\u001b[0m \u001b[0misinstance\u001b[0m\u001b[1;33m(\u001b[0m\u001b[0mkey\u001b[0m\u001b[1;33m,\u001b[0m \u001b[0mcompat\u001b[0m\u001b[1;33m.\u001b[0m\u001b[0mstring_types\u001b[0m\u001b[1;33m)\u001b[0m\u001b[1;33m:\u001b[0m\u001b[1;33m\u001b[0m\u001b[0m\n",
      "\u001b[1;32mD:\\Anaconda3\\lib\\site-packages\\pandas\\core\\indexes\\base.py\u001b[0m in \u001b[0;36m_convert_slice_indexer\u001b[1;34m(self, key, kind)\u001b[0m\n\u001b[0;32m   1380\u001b[0m             \"\"\"\n\u001b[0;32m   1381\u001b[0m             \u001b[1;32mif\u001b[0m \u001b[0mself\u001b[0m\u001b[1;33m.\u001b[0m\u001b[0mis_integer\u001b[0m\u001b[1;33m(\u001b[0m\u001b[1;33m)\u001b[0m \u001b[1;32mor\u001b[0m \u001b[0mis_index_slice\u001b[0m\u001b[1;33m:\u001b[0m\u001b[1;33m\u001b[0m\u001b[0m\n\u001b[1;32m-> 1382\u001b[1;33m                 return slice(self._validate_indexer('slice', key.start, kind),\n\u001b[0m\u001b[0;32m   1383\u001b[0m                              \u001b[0mself\u001b[0m\u001b[1;33m.\u001b[0m\u001b[0m_validate_indexer\u001b[0m\u001b[1;33m(\u001b[0m\u001b[1;34m'slice'\u001b[0m\u001b[1;33m,\u001b[0m \u001b[0mkey\u001b[0m\u001b[1;33m.\u001b[0m\u001b[0mstop\u001b[0m\u001b[1;33m,\u001b[0m \u001b[0mkind\u001b[0m\u001b[1;33m)\u001b[0m\u001b[1;33m,\u001b[0m\u001b[1;33m\u001b[0m\u001b[0m\n\u001b[0;32m   1384\u001b[0m                              self._validate_indexer('slice', key.step, kind))\n",
      "\u001b[1;32mD:\\Anaconda3\\lib\\site-packages\\pandas\\core\\indexes\\base.py\u001b[0m in \u001b[0;36m_validate_indexer\u001b[1;34m(self, form, key, kind)\u001b[0m\n\u001b[0;32m   3386\u001b[0m             \u001b[1;32mpass\u001b[0m\u001b[1;33m\u001b[0m\u001b[0m\n\u001b[0;32m   3387\u001b[0m         \u001b[1;32melif\u001b[0m \u001b[0mkind\u001b[0m \u001b[1;32min\u001b[0m \u001b[1;33m[\u001b[0m\u001b[1;34m'iloc'\u001b[0m\u001b[1;33m,\u001b[0m \u001b[1;34m'getitem'\u001b[0m\u001b[1;33m]\u001b[0m\u001b[1;33m:\u001b[0m\u001b[1;33m\u001b[0m\u001b[0m\n\u001b[1;32m-> 3388\u001b[1;33m             \u001b[0mself\u001b[0m\u001b[1;33m.\u001b[0m\u001b[0m_invalid_indexer\u001b[0m\u001b[1;33m(\u001b[0m\u001b[0mform\u001b[0m\u001b[1;33m,\u001b[0m \u001b[0mkey\u001b[0m\u001b[1;33m)\u001b[0m\u001b[1;33m\u001b[0m\u001b[0m\n\u001b[0m\u001b[0;32m   3389\u001b[0m         \u001b[1;32mreturn\u001b[0m \u001b[0mkey\u001b[0m\u001b[1;33m\u001b[0m\u001b[0m\n\u001b[0;32m   3390\u001b[0m \u001b[1;33m\u001b[0m\u001b[0m\n",
      "\u001b[1;32mD:\\Anaconda3\\lib\\site-packages\\pandas\\core\\indexes\\base.py\u001b[0m in \u001b[0;36m_invalid_indexer\u001b[1;34m(self, form, key)\u001b[0m\n\u001b[0;32m   1517\u001b[0m                         \"indexers [{key}] of {kind}\".format(\n\u001b[0;32m   1518\u001b[0m                             \u001b[0mform\u001b[0m\u001b[1;33m=\u001b[0m\u001b[0mform\u001b[0m\u001b[1;33m,\u001b[0m \u001b[0mklass\u001b[0m\u001b[1;33m=\u001b[0m\u001b[0mtype\u001b[0m\u001b[1;33m(\u001b[0m\u001b[0mself\u001b[0m\u001b[1;33m)\u001b[0m\u001b[1;33m,\u001b[0m \u001b[0mkey\u001b[0m\u001b[1;33m=\u001b[0m\u001b[0mkey\u001b[0m\u001b[1;33m,\u001b[0m\u001b[1;33m\u001b[0m\u001b[0m\n\u001b[1;32m-> 1519\u001b[1;33m                             kind=type(key)))\n\u001b[0m\u001b[0;32m   1520\u001b[0m \u001b[1;33m\u001b[0m\u001b[0m\n\u001b[0;32m   1521\u001b[0m     \u001b[1;32mdef\u001b[0m \u001b[0mget_duplicates\u001b[0m\u001b[1;33m(\u001b[0m\u001b[0mself\u001b[0m\u001b[1;33m)\u001b[0m\u001b[1;33m:\u001b[0m\u001b[1;33m\u001b[0m\u001b[0m\n",
      "\u001b[1;31mTypeError\u001b[0m: cannot do slice indexing on <class 'pandas.core.indexes.numeric.Int64Index'> with these indexers [[-5.60403503e-02  1.09050339e-02  7.36508742e-02  1.10774979e-01\n  1.20351538e-01  1.63164034e-01  1.26530856e-01  7.72809833e-02\n  5.02070226e-02  5.20805530e-02  3.99975665e-02  4.86463197e-02\n -6.93978295e-02 -9.28409174e-02 -5.08234911e-02 -4.94147651e-02\n -4.06077467e-02  1.18105980e-02  8.03032070e-02  1.16376288e-01\n  1.41661853e-01  1.75924763e-01  1.31361544e-01  1.37285352e-01\n  1.52273566e-01  1.21913671e-01  7.31807947e-02  1.27867283e-02\n -7.81095307e-03 -9.52659100e-02 -1.35514140e-01 -1.46771461e-01\n -1.78624183e-01 -2.56878793e-01 -5.17239906e-02  1.38507904e-02\n  1.30055130e-01  8.03245753e-02  8.47495049e-02  1.26219362e-01\n  4.17332314e-02  8.66234601e-02  1.72869921e-01  2.37144545e-01\n  2.68667191e-01  2.89072424e-01  3.02568585e-01  3.13243628e-01\n  3.08587492e-01  2.95712382e-01  2.13204414e-01  8.04574639e-02\n -4.21627499e-02 -9.60533842e-02 -9.36901122e-02 -1.67780325e-01\n -1.69240594e-01 -9.74206552e-02 -5.60087822e-02 -5.14275022e-02\n -6.99442253e-02 -1.21787503e-01 -1.07285157e-01 -1.04960777e-01\n -9.26963091e-02 -4.62296791e-02 -3.15293632e-02 -5.40967546e-02\n -5.22359945e-02 -5.48880957e-02 -4.31717597e-02 -3.02996673e-02\n -3.55529375e-02 -4.81107421e-02 -5.15475310e-02 -4.54762392e-02\n -8.80323127e-02 -7.44195208e-02 -1.04369864e-01 -1.07520595e-01\n -9.12718773e-02 -7.26301298e-02 -6.23634942e-02 -5.10876216e-02\n -5.36439233e-02 -6.32235706e-02 -6.41221702e-02 -6.56958148e-02\n -6.76501542e-02 -6.56247810e-02 -1.06117904e-01 -9.85746980e-02\n -7.68422037e-02 -7.43342713e-02 -7.06351995e-02 -6.96593374e-02\n -7.96808675e-02 -9.04481634e-02 -9.09087807e-02 -9.37567800e-02\n -9.23624262e-02 -9.13890898e-02 -1.06198512e-01 -1.17014199e-01\n -1.18755385e-01 -1.02031931e-01 -8.45803991e-02 -6.68232590e-02\n -6.11410327e-02 -6.39090389e-02 -6.64270073e-02 -7.07312748e-02\n -8.45094547e-02 -8.31374153e-02 -1.08226597e-01 -1.40234768e-01\n -1.35691375e-01 -1.37556404e-01 -1.17853276e-01 -1.02959119e-01\n -9.60416198e-02 -1.09135866e-01 -1.43826336e-01 -1.58710256e-01\n -1.71888605e-01 -1.75090328e-01 -1.74054399e-01 -1.70874581e-01\n -1.63602397e-01 -1.49039254e-01 -1.35557815e-01 -1.27894044e-01\n -1.20912552e-01 -9.47065279e-02 -6.82996511e-02 -3.90491076e-02\n -2.87683345e-02 -2.14410760e-02  4.49215062e-04  1.09929489e-02\n  1.61980428e-02  1.48743289e-02 -7.09342770e-04 -2.56281532e-02\n -6.25174046e-02 -8.71300101e-02 -9.72325057e-02 -1.01774395e-01\n -1.18726894e-01 -1.32573932e-01 -1.34130150e-01 -1.36239141e-01\n -1.36473596e-01 -1.24439850e-01 -9.67111588e-02 -6.78874850e-02\n -5.25175966e-02 -2.04944350e-02  1.59067623e-02  3.31937112e-02\n  6.04091398e-02  7.96330199e-02  8.09589326e-02  6.37306720e-02\n  3.14011686e-02 -3.34944110e-03 -4.70290445e-02 -8.81167576e-02\n -1.32820636e-01 -1.64952695e-01 -1.89490467e-01 -1.98840022e-01\n -1.93533003e-01 -1.81573212e-01 -1.62114650e-01 -1.36118680e-01\n -1.03201784e-01 -6.12102859e-02 -1.73211955e-02  2.52909027e-02\n  6.52451813e-02  7.84561634e-02  9.97536108e-02  1.07381746e-01\n  1.00099608e-01  8.52133930e-02  6.52831793e-02  4.46847938e-02\n  1.23026939e-02 -5.32351322e-02 -7.58517087e-02 -8.25399905e-02\n -6.68270737e-02 -5.50942756e-02 -3.80947180e-02 -2.46629901e-02\n -1.46342991e-02  5.67135680e-03  7.03478325e-03 -1.05905347e-04\n -6.56027626e-03  3.66037060e-03  6.18404616e-03  1.45741450e-02\n  1.45263569e-02  1.96213461e-02  2.89390795e-02  3.06952260e-02\n  4.05254476e-02  3.76435928e-02  3.16268764e-02  2.33867429e-02\n  1.95491426e-02  1.07558640e-02  6.82425965e-03  2.32325960e-03\n  4.22229338e-03  1.34556266e-02  2.55285613e-02  4.01457883e-02\n  4.06588353e-02  4.89627160e-02  5.28443716e-02  5.72526343e-02\n  4.75063063e-02  4.13202755e-02  4.09545042e-02  2.72279344e-02\n  2.10750736e-02  3.12161632e-04  3.97517253e-03  1.56004699e-02\n  1.67675726e-02  2.72410400e-02  2.95021869e-02  3.18281315e-02\n  3.58382873e-02  3.64974625e-02  3.67743783e-02  3.51504795e-02\n  2.97894515e-02  2.74944864e-02  1.95894502e-02  8.63752980e-03\n  2.60765571e-03 -1.84539240e-03 -2.59185117e-03 -1.02973264e-03\n  5.22957463e-03  6.09723944e-03  1.02902623e-02  1.44089507e-02\n  1.07664885e-02  9.59783513e-03  7.72379059e-03  6.99963886e-03\n  3.38618178e-03  7.86079187e-03  7.93996174e-03  1.86395682e-02\n  2.07967199e-02  1.36423307e-02  1.23596760e-02  1.49091799e-03\n -7.19425362e-03 -1.29515408e-02 -1.42331598e-02 -7.59423058e-03\n  3.36935837e-03  1.83624737e-02  3.80775891e-02  5.97754084e-02\n  8.36721286e-02  1.11490622e-01  1.28525287e-01  1.42295718e-01\n  1.55301437e-01  1.64599910e-01  1.71266809e-01  1.76768899e-01\n  1.74977154e-01  1.68157056e-01  1.62611201e-01  1.55777603e-01\n  1.48914963e-01  1.29699677e-01  1.22924730e-01  1.15787894e-01\n  1.03466563e-01  9.27609801e-02  8.37703720e-02  7.97703862e-02\n  8.13329890e-02  6.01710863e-02  3.95066105e-02  4.51977961e-02\n  1.45287858e-02  1.66232027e-02  3.04019712e-02  2.97342725e-02\n  2.92952172e-02  2.68646441e-02  3.43929566e-02  5.00254445e-02\n  6.30564839e-02  7.69817084e-02  8.24204385e-02  8.65042582e-02\n  8.50950405e-02  7.80634582e-02  8.19302946e-02  8.59551430e-02\n  9.38180462e-02  9.75424498e-02  9.67046320e-02  9.54205841e-02\n  9.21017528e-02  8.36140737e-02  6.73868954e-02  5.19628115e-02\n  3.86846773e-02  2.67656110e-02  1.09333815e-02 -9.39558260e-04\n -3.45650129e-04  8.08746833e-03  2.32458971e-02  3.79383229e-02\n  4.19768207e-02  3.72197889e-02  2.86314227e-02  2.97488235e-02\n  2.25889646e-02  2.39073299e-02  3.31510119e-02  4.15010937e-02\n  5.42369597e-02  6.68666288e-02  6.82450309e-02  3.46296057e-02\n  2.98807099e-02  5.15245833e-02  4.74189408e-02  7.16296881e-02\n  8.63682479e-02  1.00626335e-01  1.16332918e-01  1.27614468e-01\n  1.34497553e-01  1.40281036e-01  1.40914470e-01  1.55474514e-01\n  1.72159865e-01  1.81567788e-01  1.97419360e-01  2.16455966e-01\n  2.36559451e-01  2.55942017e-01  2.69814789e-01  2.88677305e-01\n  3.03574502e-01  3.08895677e-01  3.08133125e-01]] of <class 'numpy.ndarray'>"
     ]
    }
   ],
   "source": [
    "df_c_p = df_c[-(yhat):]\n",
    "df_c_p['s']=yhat\n",
    "print(df_c_p['s'].describe())\n",
    "plt.hist(df_c_p['s'])\n",
    "plt.show()\n",
    "plt.plot(df_c_p['s'])\n",
    "plt.show()"
   ]
  },
  {
   "cell_type": "code",
   "execution_count": 251,
   "metadata": {},
   "outputs": [],
   "source": [
    "\n",
    "own=0\n",
    "trade_record=[]\n",
    "profit=[]\n",
    "for i in range(df_c_p.shape[0]):\n",
    "    price = float(df_c_p.iloc[i]['收盤價'])\n",
    "    signal = df_c_p.iloc[i]['s']\n",
    "    date=df_c_p.iloc[i]['日期']\n",
    "    if own==0 :\n",
    "        if signal>0:\n",
    "            own=1\n",
    "            trade_record.append([i,'buy',price,date])\n",
    "    if own>0:\n",
    "        if i-trade_record[-1][0]<5:\n",
    "            if signal<0:\n",
    "                own=0\n",
    "                profit.append(price-trade_record[-1][2])\n",
    "                trade_record.append([i,'sell',price,date])\n",
    "        elif i-trade_record[-1][0]==5:\n",
    "            own=0\n",
    "            profit.append(price-trade_record[-1][2])\n",
    "            trade_record.append([i,'sell',price,date])"
   ]
  },
  {
   "cell_type": "code",
   "execution_count": 252,
   "metadata": {},
   "outputs": [
    {
     "data": {
      "text/plain": [
       "[[22, 'buy', 177.0, 20160817],\n",
       " [25, 'sell', 173.0, 20160822],\n",
       " [121, 'buy', 183.5, 20170208],\n",
       " [126, 'sell', 189.5, 20170217],\n",
       " [127, 'buy', 190.0, 20170220],\n",
       " [129, 'sell', 189.0, 20170224],\n",
       " [132, 'buy', 183.5, 20170306],\n",
       " [137, 'sell', 186.5, 20170313],\n",
       " [138, 'buy', 186.0, 20170314],\n",
       " [143, 'sell', 193.5, 20170322],\n",
       " [144, 'buy', 192.5, 20170324],\n",
       " [149, 'sell', 193.0, 20170405],\n",
       " [150, 'buy', 191.5, 20170406],\n",
       " [155, 'sell', 189.0, 20170414],\n",
       " [156, 'buy', 187.5, 20170417],\n",
       " [161, 'sell', 192.0, 20170425],\n",
       " [162, 'buy', 191.0, 20170426],\n",
       " [167, 'sell', 197.5, 20170505],\n",
       " [168, 'buy', 202.5, 20170508],\n",
       " [173, 'sell', 204.5, 20170516],\n",
       " [174, 'buy', 204.0, 20170517],\n",
       " [179, 'sell', 207.0, 20170525],\n",
       " [180, 'buy', 203.0, 20170531],\n",
       " [181, 'sell', 207.0, 20170601],\n",
       " [183, 'buy', 212.0, 20170605],\n",
       " [188, 'sell', 207.5, 20170612],\n",
       " [189, 'buy', 208.0, 20170613],\n",
       " [194, 'sell', 216.5, 20170620],\n",
       " [195, 'buy', 215.5, 20170621],\n",
       " [200, 'sell', 210.0, 20170629],\n",
       " [201, 'buy', 208.5, 20170630],\n",
       " [206, 'sell', 206.0, 20170707],\n",
       " [207, 'buy', 212.0, 20170711],\n",
       " [212, 'sell', 214.5, 20170719],\n",
       " [213, 'buy', 215.5, 20170720],\n",
       " [218, 'sell', 215.5, 20170727],\n",
       " [219, 'buy', 213.0, 20170728],\n",
       " [224, 'sell', 213.0, 20170804],\n",
       " [225, 'buy', 216.0, 20170807],\n",
       " [230, 'sell', 214.0, 20170815],\n",
       " [231, 'buy', 213.0, 20170816],\n",
       " [236, 'sell', 215.5, 20170823],\n",
       " [237, 'buy', 217.0, 20170824],\n",
       " [242, 'sell', 217.5, 20170904],\n",
       " [259, 'buy', 220.5, 20171002],\n",
       " [264, 'sell', 238.0, 20171016],\n",
       " [265, 'buy', 235.5, 20171017],\n",
       " [269, 'sell', 239.0, 20171023],\n",
       " [285, 'buy', 238.0, 20171116],\n",
       " [287, 'sell', 238.5, 20171120],\n",
       " [288, 'buy', 243.0, 20171121],\n",
       " [293, 'sell', 234.0, 20171128],\n",
       " [294, 'buy', 234.5, 20171129],\n",
       " [299, 'sell', 227.0, 20171206],\n",
       " [300, 'buy', 226.5, 20171207],\n",
       " [302, 'sell', 227.5, 20171211],\n",
       " [324, 'buy', 240.0, 20180115],\n",
       " [329, 'sell', 261.5, 20180122],\n",
       " [330, 'buy', 266.0, 20180123],\n",
       " [331, 'sell', 258.0, 20180124],\n",
       " [358, 'buy', 255.0, 20180315]]"
      ]
     },
     "execution_count": 252,
     "metadata": {},
     "output_type": "execute_result"
    }
   ],
   "source": [
    "trade_record"
   ]
  },
  {
   "cell_type": "code",
   "execution_count": 254,
   "metadata": {},
   "outputs": [
    {
     "data": {
      "text/plain": [
       "48.5"
      ]
     },
     "execution_count": 254,
     "metadata": {},
     "output_type": "execute_result"
    }
   ],
   "source": [
    "sum(profit)"
   ]
  },
  {
   "cell_type": "code",
   "execution_count": 255,
   "metadata": {},
   "outputs": [
    {
     "data": {
      "text/plain": [
       "[-4.0,\n",
       " 6.0,\n",
       " -1.0,\n",
       " 3.0,\n",
       " 7.5,\n",
       " 0.5,\n",
       " -2.5,\n",
       " 4.5,\n",
       " 6.5,\n",
       " 2.0,\n",
       " 3.0,\n",
       " 4.0,\n",
       " -4.5,\n",
       " 8.5,\n",
       " -5.5,\n",
       " -2.5,\n",
       " 2.5,\n",
       " 0.0,\n",
       " 0.0,\n",
       " -2.0,\n",
       " 2.5,\n",
       " 0.5,\n",
       " 17.5,\n",
       " 3.5,\n",
       " 0.5,\n",
       " -9.0,\n",
       " -7.5,\n",
       " 1.0,\n",
       " 21.5,\n",
       " -8.0]"
      ]
     },
     "execution_count": 255,
     "metadata": {},
     "output_type": "execute_result"
    }
   ],
   "source": [
    "profit"
   ]
  },
  {
   "cell_type": "code",
   "execution_count": null,
   "metadata": {
    "collapsed": true
   },
   "outputs": [],
   "source": []
  }
 ],
 "metadata": {
  "kernelspec": {
   "display_name": "Python 3",
   "language": "python",
   "name": "python3"
  },
  "language_info": {
   "codemirror_mode": {
    "name": "ipython",
    "version": 3
   },
   "file_extension": ".py",
   "mimetype": "text/x-python",
   "name": "python",
   "nbconvert_exporter": "python",
   "pygments_lexer": "ipython3",
   "version": "3.6.3"
  }
 },
 "nbformat": 4,
 "nbformat_minor": 2
}
